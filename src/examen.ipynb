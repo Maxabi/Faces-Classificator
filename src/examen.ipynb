{
 "cells": [
  {
   "cell_type": "markdown",
   "metadata": {},
   "source": [
    "# Test: Data analyses 2\n",
    "\n",
    "**Author:** Maxime ABITBOL 21305862     \n",
    "**Teacher:** Franck LIN - ADD2"
   ]
  },
  {
   "cell_type": "markdown",
   "metadata": {},
   "source": [
    "## 1. Exercise 1 (60%)"
   ]
  },
  {
   "cell_type": "markdown",
   "metadata": {},
   "source": [
    "### Import"
   ]
  },
  {
   "cell_type": "code",
   "execution_count": 1,
   "metadata": {},
   "outputs": [],
   "source": [
    "import numpy as np\n",
    "import pandas as pd\n",
    "import seaborn\n",
    "import matplotlib.pyplot as plt\n",
    "\n",
    "from sklearn.decomposition import PCA\n",
    "from sklearn.preprocessing import scale\n",
    "from sklearn.preprocessing import OneHotEncoder\n",
    "\n",
    "import random\n",
    "random.seed(30)\n",
    "\n",
    "import time "
   ]
  },
  {
   "cell_type": "markdown",
   "metadata": {},
   "source": [
    "### Settings"
   ]
  },
  {
   "cell_type": "code",
   "execution_count": 2,
   "metadata": {},
   "outputs": [
    {
     "name": "stdout",
     "output_type": "stream",
     "text": [
      "/home/maxime/Documents/Study/M1/ADD2/Exam/Data-Analyses-ADD2/src\n",
      "Faces_Test_Inputs.csv  Faces_Train_Inputs.csv  Uber_data.csv\n",
      "Faces_Test_Labels.csv  Faces_Train_Labels.csv\n"
     ]
    }
   ],
   "source": [
    "!pwd\n",
    "!ls ../data/"
   ]
  },
  {
   "cell_type": "code",
   "execution_count": 3,
   "metadata": {},
   "outputs": [],
   "source": [
    "PATH_DATA = \"../data/\"\n",
    "PATH_TRAIN_X = PATH_DATA + \"Faces_Train_Inputs.csv\"\n",
    "PATH_TRAIN_Y = PATH_DATA + \"Faces_Train_Labels.csv\"\n",
    "PATH_TEST_X = PATH_DATA + \"Faces_Test_Inputs.csv\"\n",
    "PATH_TEST_Y = PATH_DATA + \"Faces_Test_Labels.csv\""
   ]
  },
  {
   "cell_type": "markdown",
   "metadata": {},
   "source": [
    "### Load Data"
   ]
  },
  {
   "cell_type": "code",
   "execution_count": 4,
   "metadata": {},
   "outputs": [],
   "source": [
    "df_train_x = pd.read_csv(PATH_TRAIN_X, sep=\",\", header=None)\n",
    "df_train_y = pd.read_csv(PATH_TRAIN_Y, sep=\",\", header=None)\n",
    "df_test_x = pd.read_csv(PATH_TEST_X, sep=\",\", header=None)\n",
    "df_test_y = pd.read_csv(PATH_TEST_Y, sep=\",\", header=None)"
   ]
  },
  {
   "cell_type": "markdown",
   "metadata": {},
   "source": [
    "## 1.1 Describe data & Face mean"
   ]
  },
  {
   "cell_type": "markdown",
   "metadata": {},
   "source": [
    "Train y: 320 images, 40 people, 8 image of same people, dataset corresponding to the label"
   ]
  },
  {
   "cell_type": "code",
   "execution_count": 5,
   "metadata": {},
   "outputs": [
    {
     "data": {
      "text/html": [
       "<div>\n",
       "<style scoped>\n",
       "    .dataframe tbody tr th:only-of-type {\n",
       "        vertical-align: middle;\n",
       "    }\n",
       "\n",
       "    .dataframe tbody tr th {\n",
       "        vertical-align: top;\n",
       "    }\n",
       "\n",
       "    .dataframe thead th {\n",
       "        text-align: right;\n",
       "    }\n",
       "</style>\n",
       "<table border=\"1\" class=\"dataframe\">\n",
       "  <thead>\n",
       "    <tr style=\"text-align: right;\">\n",
       "      <th></th>\n",
       "      <th>0</th>\n",
       "      <th>1</th>\n",
       "      <th>2</th>\n",
       "      <th>3</th>\n",
       "      <th>4</th>\n",
       "      <th>5</th>\n",
       "      <th>6</th>\n",
       "      <th>7</th>\n",
       "      <th>8</th>\n",
       "      <th>9</th>\n",
       "      <th>...</th>\n",
       "      <th>310</th>\n",
       "      <th>311</th>\n",
       "      <th>312</th>\n",
       "      <th>313</th>\n",
       "      <th>314</th>\n",
       "      <th>315</th>\n",
       "      <th>316</th>\n",
       "      <th>317</th>\n",
       "      <th>318</th>\n",
       "      <th>319</th>\n",
       "    </tr>\n",
       "  </thead>\n",
       "  <tbody>\n",
       "    <tr>\n",
       "      <th>0</th>\n",
       "      <td>1</td>\n",
       "      <td>1</td>\n",
       "      <td>1</td>\n",
       "      <td>1</td>\n",
       "      <td>1</td>\n",
       "      <td>1</td>\n",
       "      <td>1</td>\n",
       "      <td>1</td>\n",
       "      <td>2</td>\n",
       "      <td>2</td>\n",
       "      <td>...</td>\n",
       "      <td>39</td>\n",
       "      <td>39</td>\n",
       "      <td>40</td>\n",
       "      <td>40</td>\n",
       "      <td>40</td>\n",
       "      <td>40</td>\n",
       "      <td>40</td>\n",
       "      <td>40</td>\n",
       "      <td>40</td>\n",
       "      <td>40</td>\n",
       "    </tr>\n",
       "  </tbody>\n",
       "</table>\n",
       "<p>1 rows × 320 columns</p>\n",
       "</div>"
      ],
      "text/plain": [
       "   0    1    2    3    4    5    6    7    8    9   ...   310  311  312  313  \\\n",
       "0    1    1    1    1    1    1    1    1    2    2 ...    39   39   40   40   \n",
       "\n",
       "   314  315  316  317  318  319  \n",
       "0   40   40   40   40   40   40  \n",
       "\n",
       "[1 rows x 320 columns]"
      ]
     },
     "execution_count": 5,
     "metadata": {},
     "output_type": "execute_result"
    }
   ],
   "source": [
    "df_train_y.head()"
   ]
  },
  {
   "cell_type": "markdown",
   "metadata": {},
   "source": [
    "Test y: 80 images, 40 people, 2 image of same people"
   ]
  },
  {
   "cell_type": "code",
   "execution_count": 6,
   "metadata": {},
   "outputs": [
    {
     "data": {
      "text/html": [
       "<div>\n",
       "<style scoped>\n",
       "    .dataframe tbody tr th:only-of-type {\n",
       "        vertical-align: middle;\n",
       "    }\n",
       "\n",
       "    .dataframe tbody tr th {\n",
       "        vertical-align: top;\n",
       "    }\n",
       "\n",
       "    .dataframe thead th {\n",
       "        text-align: right;\n",
       "    }\n",
       "</style>\n",
       "<table border=\"1\" class=\"dataframe\">\n",
       "  <thead>\n",
       "    <tr style=\"text-align: right;\">\n",
       "      <th></th>\n",
       "      <th>0</th>\n",
       "      <th>1</th>\n",
       "      <th>2</th>\n",
       "      <th>3</th>\n",
       "      <th>4</th>\n",
       "      <th>5</th>\n",
       "      <th>6</th>\n",
       "      <th>7</th>\n",
       "      <th>8</th>\n",
       "      <th>9</th>\n",
       "      <th>...</th>\n",
       "      <th>70</th>\n",
       "      <th>71</th>\n",
       "      <th>72</th>\n",
       "      <th>73</th>\n",
       "      <th>74</th>\n",
       "      <th>75</th>\n",
       "      <th>76</th>\n",
       "      <th>77</th>\n",
       "      <th>78</th>\n",
       "      <th>79</th>\n",
       "    </tr>\n",
       "  </thead>\n",
       "  <tbody>\n",
       "    <tr>\n",
       "      <th>0</th>\n",
       "      <td>1</td>\n",
       "      <td>1</td>\n",
       "      <td>2</td>\n",
       "      <td>2</td>\n",
       "      <td>3</td>\n",
       "      <td>3</td>\n",
       "      <td>4</td>\n",
       "      <td>4</td>\n",
       "      <td>5</td>\n",
       "      <td>5</td>\n",
       "      <td>...</td>\n",
       "      <td>36</td>\n",
       "      <td>36</td>\n",
       "      <td>37</td>\n",
       "      <td>37</td>\n",
       "      <td>38</td>\n",
       "      <td>38</td>\n",
       "      <td>39</td>\n",
       "      <td>39</td>\n",
       "      <td>40</td>\n",
       "      <td>40</td>\n",
       "    </tr>\n",
       "  </tbody>\n",
       "</table>\n",
       "<p>1 rows × 80 columns</p>\n",
       "</div>"
      ],
      "text/plain": [
       "   0   1   2   3   4   5   6   7   8   9  ...  70  71  72  73  74  75  76  77  \\\n",
       "0   1   1   2   2   3   3   4   4   5   5 ...  36  36  37  37  38  38  39  39   \n",
       "\n",
       "   78  79  \n",
       "0  40  40  \n",
       "\n",
       "[1 rows x 80 columns]"
      ]
     },
     "execution_count": 6,
     "metadata": {},
     "output_type": "execute_result"
    }
   ],
   "source": [
    "df_test_y.head()"
   ]
  },
  {
   "cell_type": "markdown",
   "metadata": {},
   "source": [
    "Train x: 10304 pixels per images (92x112)"
   ]
  },
  {
   "cell_type": "code",
   "execution_count": 7,
   "metadata": {
    "scrolled": true
   },
   "outputs": [
    {
     "data": {
      "text/html": [
       "<div>\n",
       "<style scoped>\n",
       "    .dataframe tbody tr th:only-of-type {\n",
       "        vertical-align: middle;\n",
       "    }\n",
       "\n",
       "    .dataframe tbody tr th {\n",
       "        vertical-align: top;\n",
       "    }\n",
       "\n",
       "    .dataframe thead th {\n",
       "        text-align: right;\n",
       "    }\n",
       "</style>\n",
       "<table border=\"1\" class=\"dataframe\">\n",
       "  <thead>\n",
       "    <tr style=\"text-align: right;\">\n",
       "      <th></th>\n",
       "      <th>0</th>\n",
       "      <th>1</th>\n",
       "      <th>2</th>\n",
       "      <th>3</th>\n",
       "      <th>4</th>\n",
       "      <th>5</th>\n",
       "      <th>6</th>\n",
       "      <th>7</th>\n",
       "      <th>8</th>\n",
       "      <th>9</th>\n",
       "      <th>...</th>\n",
       "      <th>10294</th>\n",
       "      <th>10295</th>\n",
       "      <th>10296</th>\n",
       "      <th>10297</th>\n",
       "      <th>10298</th>\n",
       "      <th>10299</th>\n",
       "      <th>10300</th>\n",
       "      <th>10301</th>\n",
       "      <th>10302</th>\n",
       "      <th>10303</th>\n",
       "    </tr>\n",
       "  </thead>\n",
       "  <tbody>\n",
       "    <tr>\n",
       "      <th>0</th>\n",
       "      <td>0.18824</td>\n",
       "      <td>0.17647</td>\n",
       "      <td>0.17647</td>\n",
       "      <td>0.19216</td>\n",
       "      <td>0.18039</td>\n",
       "      <td>0.18431</td>\n",
       "      <td>0.17647</td>\n",
       "      <td>0.18431</td>\n",
       "      <td>0.18824</td>\n",
       "      <td>0.207840</td>\n",
       "      <td>...</td>\n",
       "      <td>0.18431</td>\n",
       "      <td>0.17255</td>\n",
       "      <td>0.18431</td>\n",
       "      <td>0.20392</td>\n",
       "      <td>0.18824</td>\n",
       "      <td>0.192160</td>\n",
       "      <td>0.176470</td>\n",
       "      <td>0.180390</td>\n",
       "      <td>0.18431</td>\n",
       "      <td>0.180390</td>\n",
       "    </tr>\n",
       "    <tr>\n",
       "      <th>1</th>\n",
       "      <td>0.23529</td>\n",
       "      <td>0.22745</td>\n",
       "      <td>0.26667</td>\n",
       "      <td>0.30980</td>\n",
       "      <td>0.19216</td>\n",
       "      <td>0.16863</td>\n",
       "      <td>0.20392</td>\n",
       "      <td>0.20392</td>\n",
       "      <td>0.21961</td>\n",
       "      <td>0.282350</td>\n",
       "      <td>...</td>\n",
       "      <td>0.14510</td>\n",
       "      <td>0.15686</td>\n",
       "      <td>0.14118</td>\n",
       "      <td>0.12549</td>\n",
       "      <td>0.12941</td>\n",
       "      <td>0.145100</td>\n",
       "      <td>0.141180</td>\n",
       "      <td>0.129410</td>\n",
       "      <td>0.12157</td>\n",
       "      <td>0.133330</td>\n",
       "    </tr>\n",
       "    <tr>\n",
       "      <th>2</th>\n",
       "      <td>0.15294</td>\n",
       "      <td>0.17255</td>\n",
       "      <td>0.23137</td>\n",
       "      <td>0.21176</td>\n",
       "      <td>0.24314</td>\n",
       "      <td>0.27059</td>\n",
       "      <td>0.29020</td>\n",
       "      <td>0.23922</td>\n",
       "      <td>0.17255</td>\n",
       "      <td>0.184310</td>\n",
       "      <td>...</td>\n",
       "      <td>0.15294</td>\n",
       "      <td>0.14510</td>\n",
       "      <td>0.13333</td>\n",
       "      <td>0.12157</td>\n",
       "      <td>0.12549</td>\n",
       "      <td>0.133330</td>\n",
       "      <td>0.109800</td>\n",
       "      <td>0.109800</td>\n",
       "      <td>0.10588</td>\n",
       "      <td>0.113730</td>\n",
       "    </tr>\n",
       "    <tr>\n",
       "      <th>3</th>\n",
       "      <td>0.24706</td>\n",
       "      <td>0.21961</td>\n",
       "      <td>0.20392</td>\n",
       "      <td>0.15686</td>\n",
       "      <td>0.16863</td>\n",
       "      <td>0.16863</td>\n",
       "      <td>0.11373</td>\n",
       "      <td>0.11765</td>\n",
       "      <td>0.11765</td>\n",
       "      <td>0.094118</td>\n",
       "      <td>...</td>\n",
       "      <td>0.16078</td>\n",
       "      <td>0.16078</td>\n",
       "      <td>0.13725</td>\n",
       "      <td>0.12549</td>\n",
       "      <td>0.10588</td>\n",
       "      <td>0.094118</td>\n",
       "      <td>0.090196</td>\n",
       "      <td>0.098039</td>\n",
       "      <td>0.10980</td>\n",
       "      <td>0.094118</td>\n",
       "    </tr>\n",
       "    <tr>\n",
       "      <th>4</th>\n",
       "      <td>0.25098</td>\n",
       "      <td>0.23529</td>\n",
       "      <td>0.24706</td>\n",
       "      <td>0.20784</td>\n",
       "      <td>0.23529</td>\n",
       "      <td>0.16078</td>\n",
       "      <td>0.11765</td>\n",
       "      <td>0.10980</td>\n",
       "      <td>0.14902</td>\n",
       "      <td>0.215690</td>\n",
       "      <td>...</td>\n",
       "      <td>0.15686</td>\n",
       "      <td>0.17255</td>\n",
       "      <td>0.15686</td>\n",
       "      <td>0.16863</td>\n",
       "      <td>0.16471</td>\n",
       "      <td>0.160780</td>\n",
       "      <td>0.160780</td>\n",
       "      <td>0.137250</td>\n",
       "      <td>0.16471</td>\n",
       "      <td>0.152940</td>\n",
       "    </tr>\n",
       "  </tbody>\n",
       "</table>\n",
       "<p>5 rows × 10304 columns</p>\n",
       "</div>"
      ],
      "text/plain": [
       "     0        1        2        3        4        5        6        7      \\\n",
       "0  0.18824  0.17647  0.17647  0.19216  0.18039  0.18431  0.17647  0.18431   \n",
       "1  0.23529  0.22745  0.26667  0.30980  0.19216  0.16863  0.20392  0.20392   \n",
       "2  0.15294  0.17255  0.23137  0.21176  0.24314  0.27059  0.29020  0.23922   \n",
       "3  0.24706  0.21961  0.20392  0.15686  0.16863  0.16863  0.11373  0.11765   \n",
       "4  0.25098  0.23529  0.24706  0.20784  0.23529  0.16078  0.11765  0.10980   \n",
       "\n",
       "     8         9        ...       10294    10295    10296    10297    10298  \\\n",
       "0  0.18824  0.207840    ...     0.18431  0.17255  0.18431  0.20392  0.18824   \n",
       "1  0.21961  0.282350    ...     0.14510  0.15686  0.14118  0.12549  0.12941   \n",
       "2  0.17255  0.184310    ...     0.15294  0.14510  0.13333  0.12157  0.12549   \n",
       "3  0.11765  0.094118    ...     0.16078  0.16078  0.13725  0.12549  0.10588   \n",
       "4  0.14902  0.215690    ...     0.15686  0.17255  0.15686  0.16863  0.16471   \n",
       "\n",
       "      10299     10300     10301    10302     10303  \n",
       "0  0.192160  0.176470  0.180390  0.18431  0.180390  \n",
       "1  0.145100  0.141180  0.129410  0.12157  0.133330  \n",
       "2  0.133330  0.109800  0.109800  0.10588  0.113730  \n",
       "3  0.094118  0.090196  0.098039  0.10980  0.094118  \n",
       "4  0.160780  0.160780  0.137250  0.16471  0.152940  \n",
       "\n",
       "[5 rows x 10304 columns]"
      ]
     },
     "execution_count": 7,
     "metadata": {},
     "output_type": "execute_result"
    }
   ],
   "source": [
    "df_train_x.head()"
   ]
  },
  {
   "cell_type": "code",
   "execution_count": 8,
   "metadata": {},
   "outputs": [
    {
     "name": "stdout",
     "output_type": "stream",
     "text": [
      "<class 'pandas.core.frame.DataFrame'>\n",
      "RangeIndex: 320 entries, 0 to 319\n",
      "Columns: 10304 entries, 0 to 10303\n",
      "dtypes: float64(10304)\n",
      "memory usage: 25.2 MB\n"
     ]
    }
   ],
   "source": [
    "df_train_x.info()"
   ]
  },
  {
   "cell_type": "markdown",
   "metadata": {},
   "source": [
    "Test x: 10305 pixels per images"
   ]
  },
  {
   "cell_type": "code",
   "execution_count": 9,
   "metadata": {},
   "outputs": [
    {
     "data": {
      "text/html": [
       "<div>\n",
       "<style scoped>\n",
       "    .dataframe tbody tr th:only-of-type {\n",
       "        vertical-align: middle;\n",
       "    }\n",
       "\n",
       "    .dataframe tbody tr th {\n",
       "        vertical-align: top;\n",
       "    }\n",
       "\n",
       "    .dataframe thead th {\n",
       "        text-align: right;\n",
       "    }\n",
       "</style>\n",
       "<table border=\"1\" class=\"dataframe\">\n",
       "  <thead>\n",
       "    <tr style=\"text-align: right;\">\n",
       "      <th></th>\n",
       "      <th>0</th>\n",
       "      <th>1</th>\n",
       "      <th>2</th>\n",
       "      <th>3</th>\n",
       "      <th>4</th>\n",
       "      <th>5</th>\n",
       "      <th>6</th>\n",
       "      <th>7</th>\n",
       "      <th>8</th>\n",
       "      <th>9</th>\n",
       "      <th>...</th>\n",
       "      <th>10294</th>\n",
       "      <th>10295</th>\n",
       "      <th>10296</th>\n",
       "      <th>10297</th>\n",
       "      <th>10298</th>\n",
       "      <th>10299</th>\n",
       "      <th>10300</th>\n",
       "      <th>10301</th>\n",
       "      <th>10302</th>\n",
       "      <th>10303</th>\n",
       "    </tr>\n",
       "  </thead>\n",
       "  <tbody>\n",
       "    <tr>\n",
       "      <th>0</th>\n",
       "      <td>0.164706</td>\n",
       "      <td>0.160784</td>\n",
       "      <td>0.211765</td>\n",
       "      <td>0.188235</td>\n",
       "      <td>0.168627</td>\n",
       "      <td>0.156863</td>\n",
       "      <td>0.180392</td>\n",
       "      <td>0.176471</td>\n",
       "      <td>0.160784</td>\n",
       "      <td>0.160784</td>\n",
       "      <td>...</td>\n",
       "      <td>0.168627</td>\n",
       "      <td>0.156863</td>\n",
       "      <td>0.160784</td>\n",
       "      <td>0.164706</td>\n",
       "      <td>0.180392</td>\n",
       "      <td>0.164706</td>\n",
       "      <td>0.168627</td>\n",
       "      <td>0.156863</td>\n",
       "      <td>0.152941</td>\n",
       "      <td>0.160784</td>\n",
       "    </tr>\n",
       "    <tr>\n",
       "      <th>1</th>\n",
       "      <td>0.133333</td>\n",
       "      <td>0.137255</td>\n",
       "      <td>0.133333</td>\n",
       "      <td>0.133333</td>\n",
       "      <td>0.149020</td>\n",
       "      <td>0.141176</td>\n",
       "      <td>0.117647</td>\n",
       "      <td>0.105882</td>\n",
       "      <td>0.094118</td>\n",
       "      <td>0.105882</td>\n",
       "      <td>...</td>\n",
       "      <td>0.184314</td>\n",
       "      <td>0.172549</td>\n",
       "      <td>0.184314</td>\n",
       "      <td>0.168627</td>\n",
       "      <td>0.164706</td>\n",
       "      <td>0.149020</td>\n",
       "      <td>0.164706</td>\n",
       "      <td>0.160784</td>\n",
       "      <td>0.152941</td>\n",
       "      <td>0.129412</td>\n",
       "    </tr>\n",
       "    <tr>\n",
       "      <th>2</th>\n",
       "      <td>0.168627</td>\n",
       "      <td>0.149020</td>\n",
       "      <td>0.152941</td>\n",
       "      <td>0.145098</td>\n",
       "      <td>0.156863</td>\n",
       "      <td>0.160784</td>\n",
       "      <td>0.164706</td>\n",
       "      <td>0.168627</td>\n",
       "      <td>0.176471</td>\n",
       "      <td>0.152941</td>\n",
       "      <td>...</td>\n",
       "      <td>0.125490</td>\n",
       "      <td>0.125490</td>\n",
       "      <td>0.117647</td>\n",
       "      <td>0.109804</td>\n",
       "      <td>0.105882</td>\n",
       "      <td>0.098039</td>\n",
       "      <td>0.105882</td>\n",
       "      <td>0.109804</td>\n",
       "      <td>0.121569</td>\n",
       "      <td>0.552941</td>\n",
       "    </tr>\n",
       "    <tr>\n",
       "      <th>3</th>\n",
       "      <td>0.145098</td>\n",
       "      <td>0.121569</td>\n",
       "      <td>0.133333</td>\n",
       "      <td>0.149020</td>\n",
       "      <td>0.160784</td>\n",
       "      <td>0.156863</td>\n",
       "      <td>0.149020</td>\n",
       "      <td>0.164706</td>\n",
       "      <td>0.156863</td>\n",
       "      <td>0.152941</td>\n",
       "      <td>...</td>\n",
       "      <td>0.117647</td>\n",
       "      <td>0.121569</td>\n",
       "      <td>0.105882</td>\n",
       "      <td>0.098039</td>\n",
       "      <td>0.101961</td>\n",
       "      <td>0.090196</td>\n",
       "      <td>0.101961</td>\n",
       "      <td>0.105882</td>\n",
       "      <td>0.262745</td>\n",
       "      <td>0.521569</td>\n",
       "    </tr>\n",
       "    <tr>\n",
       "      <th>4</th>\n",
       "      <td>0.407843</td>\n",
       "      <td>0.407843</td>\n",
       "      <td>0.415686</td>\n",
       "      <td>0.419608</td>\n",
       "      <td>0.419608</td>\n",
       "      <td>0.423529</td>\n",
       "      <td>0.396078</td>\n",
       "      <td>0.419608</td>\n",
       "      <td>0.415686</td>\n",
       "      <td>0.407843</td>\n",
       "      <td>...</td>\n",
       "      <td>0.215686</td>\n",
       "      <td>0.227451</td>\n",
       "      <td>0.207843</td>\n",
       "      <td>0.215686</td>\n",
       "      <td>0.239216</td>\n",
       "      <td>0.243137</td>\n",
       "      <td>0.250980</td>\n",
       "      <td>0.247059</td>\n",
       "      <td>0.235294</td>\n",
       "      <td>0.219608</td>\n",
       "    </tr>\n",
       "  </tbody>\n",
       "</table>\n",
       "<p>5 rows × 10304 columns</p>\n",
       "</div>"
      ],
      "text/plain": [
       "      0         1         2         3         4         5         6      \\\n",
       "0  0.164706  0.160784  0.211765  0.188235  0.168627  0.156863  0.180392   \n",
       "1  0.133333  0.137255  0.133333  0.133333  0.149020  0.141176  0.117647   \n",
       "2  0.168627  0.149020  0.152941  0.145098  0.156863  0.160784  0.164706   \n",
       "3  0.145098  0.121569  0.133333  0.149020  0.160784  0.156863  0.149020   \n",
       "4  0.407843  0.407843  0.415686  0.419608  0.419608  0.423529  0.396078   \n",
       "\n",
       "      7         8         9        ...        10294     10295     10296  \\\n",
       "0  0.176471  0.160784  0.160784    ...     0.168627  0.156863  0.160784   \n",
       "1  0.105882  0.094118  0.105882    ...     0.184314  0.172549  0.184314   \n",
       "2  0.168627  0.176471  0.152941    ...     0.125490  0.125490  0.117647   \n",
       "3  0.164706  0.156863  0.152941    ...     0.117647  0.121569  0.105882   \n",
       "4  0.419608  0.415686  0.407843    ...     0.215686  0.227451  0.207843   \n",
       "\n",
       "      10297     10298     10299     10300     10301     10302     10303  \n",
       "0  0.164706  0.180392  0.164706  0.168627  0.156863  0.152941  0.160784  \n",
       "1  0.168627  0.164706  0.149020  0.164706  0.160784  0.152941  0.129412  \n",
       "2  0.109804  0.105882  0.098039  0.105882  0.109804  0.121569  0.552941  \n",
       "3  0.098039  0.101961  0.090196  0.101961  0.105882  0.262745  0.521569  \n",
       "4  0.215686  0.239216  0.243137  0.250980  0.247059  0.235294  0.219608  \n",
       "\n",
       "[5 rows x 10304 columns]"
      ]
     },
     "execution_count": 9,
     "metadata": {},
     "output_type": "execute_result"
    }
   ],
   "source": [
    "df_test_x.head()"
   ]
  },
  {
   "cell_type": "code",
   "execution_count": 10,
   "metadata": {},
   "outputs": [
    {
     "name": "stdout",
     "output_type": "stream",
     "text": [
      "<class 'pandas.core.frame.DataFrame'>\n",
      "RangeIndex: 80 entries, 0 to 79\n",
      "Columns: 10304 entries, 0 to 10303\n",
      "dtypes: float64(10304)\n",
      "memory usage: 6.3 MB\n"
     ]
    }
   ],
   "source": [
    "df_test_x.info()"
   ]
  },
  {
   "cell_type": "markdown",
   "metadata": {},
   "source": [
    "### Face mean (from train set)"
   ]
  },
  {
   "cell_type": "code",
   "execution_count": 11,
   "metadata": {
    "scrolled": true
   },
   "outputs": [
    {
     "data": {
      "text/plain": [
       "<matplotlib.image.AxesImage at 0x7fd1db4de780>"
      ]
     },
     "execution_count": 11,
     "metadata": {},
     "output_type": "execute_result"
    },
    {
     "data": {
      "image/png": "[encoded data removed]",
      "text/plain": [
       "<Figure size 432x288 with 1 Axes>"
      ]
     },
     "metadata": {
      "needs_background": "light"
     },
     "output_type": "display_data"
    }
   ],
   "source": [
    "face_mean = np.mean(df_train_x)\n",
    "matr_face_mean = np.reshape(face_mean.values, (92,112))\n",
    "plt.imshow(matr_face_mean)"
   ]
  },
  {
   "cell_type": "code",
   "execution_count": 12,
   "metadata": {},
   "outputs": [
    {
     "data": {
      "text/plain": [
       "<matplotlib.image.AxesImage at 0x7fd1da705ac8>"
      ]
     },
     "execution_count": 12,
     "metadata": {},
     "output_type": "execute_result"
    },
    {
     "data": {
      "image/png": "[encoded data removed]",
      "text/plain": [
       "<Figure size 432x288 with 1 Axes>"
      ]
     },
     "metadata": {
      "needs_background": "light"
     },
     "output_type": "display_data"
    }
   ],
   "source": [
    "# to put the image in the right direction\n",
    "plt.imshow(matr_face_mean.transpose())"
   ]
  },
  {
   "cell_type": "markdown",
   "metadata": {},
   "source": [
    "## 1.2 PCA Reduction"
   ]
  },
  {
   "cell_type": "code",
   "execution_count": 13,
   "metadata": {},
   "outputs": [],
   "source": [
    "from sklearn.preprocessing import StandardScaler\n",
    "\n",
    "def my_PCA(k, X=df_train_x):\n",
    "    pca = PCA(k)\n",
    "    X_reduced = pca.fit_transform(scale(X))\n",
    "    return X_reduced\n"
   ]
  },
  {
   "cell_type": "code",
   "execution_count": 14,
   "metadata": {},
   "outputs": [],
   "source": [
    "def PCAvar(k):\n",
    "    pca = PCA(k)\n",
    "    pca.fit_transform(scale(df_train_x))\n",
    "    eig = pd.DataFrame(\n",
    "        {\n",
    "            \"Dimension\" : [\"Dim\" + str(x + 1) for x in range(k)], \n",
    "            \"Valeur_propre\" : pca.explained_variance_,\n",
    "            \"var_exp\" : np.round(pca.explained_variance_ratio_ * 100),\n",
    "            \"sum_var_exp\" : np.round(np.cumsum(pca.explained_variance_ratio_) * 100)\n",
    "        },\n",
    "        columns = [\"Dimension\", \"Valeur_propre\", \"var_exp\", \"sum_var_exp\"]\n",
    "    )\n",
    "    return(eig)"
   ]
  },
  {
   "cell_type": "markdown",
   "metadata": {},
   "source": [
    "Reduction with k=5"
   ]
  },
  {
   "cell_type": "code",
   "execution_count": 15,
   "metadata": {},
   "outputs": [
    {
     "data": {
      "text/plain": [
       "(320, 5)"
      ]
     },
     "execution_count": 15,
     "metadata": {},
     "output_type": "execute_result"
    }
   ],
   "source": [
    "X_reduced5 = my_PCA(k=5)\n",
    "X_reduced5.shape"
   ]
  },
  {
   "cell_type": "code",
   "execution_count": 16,
   "metadata": {
    "scrolled": true
   },
   "outputs": [
    {
     "data": {
      "text/html": [
       "<div>\n",
       "<style scoped>\n",
       "    .dataframe tbody tr th:only-of-type {\n",
       "        vertical-align: middle;\n",
       "    }\n",
       "\n",
       "    .dataframe tbody tr th {\n",
       "        vertical-align: top;\n",
       "    }\n",
       "\n",
       "    .dataframe thead th {\n",
       "        text-align: right;\n",
       "    }\n",
       "</style>\n",
       "<table border=\"1\" class=\"dataframe\">\n",
       "  <thead>\n",
       "    <tr style=\"text-align: right;\">\n",
       "      <th></th>\n",
       "      <th>Dimension</th>\n",
       "      <th>Valeur_propre</th>\n",
       "      <th>var_exp</th>\n",
       "      <th>sum_var_exp</th>\n",
       "    </tr>\n",
       "  </thead>\n",
       "  <tbody>\n",
       "    <tr>\n",
       "      <th>0</th>\n",
       "      <td>Dim1</td>\n",
       "      <td>1619.416811</td>\n",
       "      <td>16.0</td>\n",
       "      <td>16.0</td>\n",
       "    </tr>\n",
       "    <tr>\n",
       "      <th>1</th>\n",
       "      <td>Dim2</td>\n",
       "      <td>1348.625028</td>\n",
       "      <td>13.0</td>\n",
       "      <td>29.0</td>\n",
       "    </tr>\n",
       "    <tr>\n",
       "      <th>2</th>\n",
       "      <td>Dim3</td>\n",
       "      <td>854.982789</td>\n",
       "      <td>8.0</td>\n",
       "      <td>37.0</td>\n",
       "    </tr>\n",
       "    <tr>\n",
       "      <th>3</th>\n",
       "      <td>Dim4</td>\n",
       "      <td>581.500274</td>\n",
       "      <td>6.0</td>\n",
       "      <td>43.0</td>\n",
       "    </tr>\n",
       "    <tr>\n",
       "      <th>4</th>\n",
       "      <td>Dim5</td>\n",
       "      <td>504.617660</td>\n",
       "      <td>5.0</td>\n",
       "      <td>47.0</td>\n",
       "    </tr>\n",
       "  </tbody>\n",
       "</table>\n",
       "</div>"
      ],
      "text/plain": [
       "  Dimension  Valeur_propre  var_exp  sum_var_exp\n",
       "0      Dim1    1619.416811     16.0         16.0\n",
       "1      Dim2    1348.625028     13.0         29.0\n",
       "2      Dim3     854.982789      8.0         37.0\n",
       "3      Dim4     581.500274      6.0         43.0\n",
       "4      Dim5     504.617660      5.0         47.0"
      ]
     },
     "execution_count": 16,
     "metadata": {},
     "output_type": "execute_result"
    }
   ],
   "source": [
    "PCAvar(5)"
   ]
  },
  {
   "cell_type": "markdown",
   "metadata": {},
   "source": [
    "**The variance explains here only 47% of the model**"
   ]
  },
  {
   "cell_type": "markdown",
   "metadata": {},
   "source": [
    "Reduction with k=10"
   ]
  },
  {
   "cell_type": "code",
   "execution_count": 17,
   "metadata": {},
   "outputs": [
    {
     "data": {
      "text/plain": [
       "(320, 10)"
      ]
     },
     "execution_count": 17,
     "metadata": {},
     "output_type": "execute_result"
    }
   ],
   "source": [
    "X_reduced10 = my_PCA(k=10)\n",
    "X_reduced10.shape"
   ]
  },
  {
   "cell_type": "code",
   "execution_count": 18,
   "metadata": {},
   "outputs": [
    {
     "data": {
      "text/html": [
       "<div>\n",
       "<style scoped>\n",
       "    .dataframe tbody tr th:only-of-type {\n",
       "        vertical-align: middle;\n",
       "    }\n",
       "\n",
       "    .dataframe tbody tr th {\n",
       "        vertical-align: top;\n",
       "    }\n",
       "\n",
       "    .dataframe thead th {\n",
       "        text-align: right;\n",
       "    }\n",
       "</style>\n",
       "<table border=\"1\" class=\"dataframe\">\n",
       "  <thead>\n",
       "    <tr style=\"text-align: right;\">\n",
       "      <th></th>\n",
       "      <th>Dimension</th>\n",
       "      <th>Valeur_propre</th>\n",
       "      <th>var_exp</th>\n",
       "      <th>sum_var_exp</th>\n",
       "    </tr>\n",
       "  </thead>\n",
       "  <tbody>\n",
       "    <tr>\n",
       "      <th>0</th>\n",
       "      <td>Dim1</td>\n",
       "      <td>1619.416811</td>\n",
       "      <td>16.0</td>\n",
       "      <td>16.0</td>\n",
       "    </tr>\n",
       "    <tr>\n",
       "      <th>1</th>\n",
       "      <td>Dim2</td>\n",
       "      <td>1348.625028</td>\n",
       "      <td>13.0</td>\n",
       "      <td>29.0</td>\n",
       "    </tr>\n",
       "    <tr>\n",
       "      <th>2</th>\n",
       "      <td>Dim3</td>\n",
       "      <td>854.982789</td>\n",
       "      <td>8.0</td>\n",
       "      <td>37.0</td>\n",
       "    </tr>\n",
       "    <tr>\n",
       "      <th>3</th>\n",
       "      <td>Dim4</td>\n",
       "      <td>581.500274</td>\n",
       "      <td>6.0</td>\n",
       "      <td>43.0</td>\n",
       "    </tr>\n",
       "    <tr>\n",
       "      <th>4</th>\n",
       "      <td>Dim5</td>\n",
       "      <td>504.617660</td>\n",
       "      <td>5.0</td>\n",
       "      <td>47.0</td>\n",
       "    </tr>\n",
       "    <tr>\n",
       "      <th>5</th>\n",
       "      <td>Dim6</td>\n",
       "      <td>319.685040</td>\n",
       "      <td>3.0</td>\n",
       "      <td>51.0</td>\n",
       "    </tr>\n",
       "    <tr>\n",
       "      <th>6</th>\n",
       "      <td>Dim7</td>\n",
       "      <td>262.555027</td>\n",
       "      <td>3.0</td>\n",
       "      <td>53.0</td>\n",
       "    </tr>\n",
       "    <tr>\n",
       "      <th>7</th>\n",
       "      <td>Dim8</td>\n",
       "      <td>230.339620</td>\n",
       "      <td>2.0</td>\n",
       "      <td>55.0</td>\n",
       "    </tr>\n",
       "    <tr>\n",
       "      <th>8</th>\n",
       "      <td>Dim9</td>\n",
       "      <td>219.854068</td>\n",
       "      <td>2.0</td>\n",
       "      <td>57.0</td>\n",
       "    </tr>\n",
       "    <tr>\n",
       "      <th>9</th>\n",
       "      <td>Dim10</td>\n",
       "      <td>202.799606</td>\n",
       "      <td>2.0</td>\n",
       "      <td>59.0</td>\n",
       "    </tr>\n",
       "  </tbody>\n",
       "</table>\n",
       "</div>"
      ],
      "text/plain": [
       "  Dimension  Valeur_propre  var_exp  sum_var_exp\n",
       "0      Dim1    1619.416811     16.0         16.0\n",
       "1      Dim2    1348.625028     13.0         29.0\n",
       "2      Dim3     854.982789      8.0         37.0\n",
       "3      Dim4     581.500274      6.0         43.0\n",
       "4      Dim5     504.617660      5.0         47.0\n",
       "5      Dim6     319.685040      3.0         51.0\n",
       "6      Dim7     262.555027      3.0         53.0\n",
       "7      Dim8     230.339620      2.0         55.0\n",
       "8      Dim9     219.854068      2.0         57.0\n",
       "9     Dim10     202.799606      2.0         59.0"
      ]
     },
     "execution_count": 18,
     "metadata": {},
     "output_type": "execute_result"
    }
   ],
   "source": [
    "PCAvar(10)"
   ]
  },
  {
   "cell_type": "markdown",
   "metadata": {},
   "source": [
    "**The variance explains here only 59% of the model**"
   ]
  },
  {
   "cell_type": "markdown",
   "metadata": {},
   "source": [
    "Reduction with k=50"
   ]
  },
  {
   "cell_type": "code",
   "execution_count": 19,
   "metadata": {},
   "outputs": [
    {
     "data": {
      "text/plain": [
       "(320, 50)"
      ]
     },
     "execution_count": 19,
     "metadata": {},
     "output_type": "execute_result"
    }
   ],
   "source": [
    "X_reduced50 = my_PCA(k=50)\n",
    "X_reduced50.shape"
   ]
  },
  {
   "cell_type": "code",
   "execution_count": 20,
   "metadata": {
    "scrolled": true
   },
   "outputs": [
    {
     "data": {
      "text/html": [
       "<div>\n",
       "<style scoped>\n",
       "    .dataframe tbody tr th:only-of-type {\n",
       "        vertical-align: middle;\n",
       "    }\n",
       "\n",
       "    .dataframe tbody tr th {\n",
       "        vertical-align: top;\n",
       "    }\n",
       "\n",
       "    .dataframe thead th {\n",
       "        text-align: right;\n",
       "    }\n",
       "</style>\n",
       "<table border=\"1\" class=\"dataframe\">\n",
       "  <thead>\n",
       "    <tr style=\"text-align: right;\">\n",
       "      <th></th>\n",
       "      <th>Dimension</th>\n",
       "      <th>Valeur_propre</th>\n",
       "      <th>var_exp</th>\n",
       "      <th>sum_var_exp</th>\n",
       "    </tr>\n",
       "  </thead>\n",
       "  <tbody>\n",
       "    <tr>\n",
       "      <th>49</th>\n",
       "      <td>Dim50</td>\n",
       "      <td>24.876060</td>\n",
       "      <td>0.0</td>\n",
       "      <td>82.0</td>\n",
       "    </tr>\n",
       "    <tr>\n",
       "      <th>48</th>\n",
       "      <td>Dim49</td>\n",
       "      <td>25.610948</td>\n",
       "      <td>0.0</td>\n",
       "      <td>82.0</td>\n",
       "    </tr>\n",
       "    <tr>\n",
       "      <th>47</th>\n",
       "      <td>Dim48</td>\n",
       "      <td>27.507179</td>\n",
       "      <td>0.0</td>\n",
       "      <td>82.0</td>\n",
       "    </tr>\n",
       "    <tr>\n",
       "      <th>46</th>\n",
       "      <td>Dim47</td>\n",
       "      <td>27.806292</td>\n",
       "      <td>0.0</td>\n",
       "      <td>81.0</td>\n",
       "    </tr>\n",
       "    <tr>\n",
       "      <th>45</th>\n",
       "      <td>Dim46</td>\n",
       "      <td>28.459751</td>\n",
       "      <td>0.0</td>\n",
       "      <td>81.0</td>\n",
       "    </tr>\n",
       "  </tbody>\n",
       "</table>\n",
       "</div>"
      ],
      "text/plain": [
       "   Dimension  Valeur_propre  var_exp  sum_var_exp\n",
       "49     Dim50      24.876060      0.0         82.0\n",
       "48     Dim49      25.610948      0.0         82.0\n",
       "47     Dim48      27.507179      0.0         82.0\n",
       "46     Dim47      27.806292      0.0         81.0\n",
       "45     Dim46      28.459751      0.0         81.0"
      ]
     },
     "execution_count": 20,
     "metadata": {},
     "output_type": "execute_result"
    }
   ],
   "source": [
    "PCA50 = PCAvar(50).sort_values(by = 'sum_var_exp', ascending= False)\n",
    "PCA50.head()"
   ]
  },
  {
   "cell_type": "markdown",
   "metadata": {},
   "source": [
    "**The variance explains here 82% of the model**"
   ]
  },
  {
   "cell_type": "markdown",
   "metadata": {},
   "source": [
    "With these results, it is likely that we are losing more information the $k$ of the PCA is small."
   ]
  },
  {
   "cell_type": "markdown",
   "metadata": {},
   "source": [
    "## 1.3 Plot image with PCA"
   ]
  },
  {
   "cell_type": "code",
   "execution_count": 21,
   "metadata": {},
   "outputs": [
    {
     "data": {
      "text/plain": [
       "<matplotlib.image.AxesImage at 0x7fd1da2830b8>"
      ]
     },
     "execution_count": 21,
     "metadata": {},
     "output_type": "execute_result"
    },
    {
     "data": {
      "image/png": "[encoded data removed]",
      "text/plain": [
       "<Figure size 432x288 with 1 Axes>"
      ]
     },
     "metadata": {
      "needs_background": "light"
     },
     "output_type": "display_data"
    }
   ],
   "source": [
    "# test with the face number 5 without PCA\n",
    "face5 = df_train_x.loc[4]\n",
    "image5 = np.reshape(face5.values, (92,112))\n",
    "plt.imshow(image5.transpose(), cmap = plt.cm.Greys_r)"
   ]
  },
  {
   "cell_type": "markdown",
   "metadata": {},
   "source": [
    "**Function that perform a PCA, rebuild the image and display it**"
   ]
  },
  {
   "cell_type": "code",
   "execution_count": 22,
   "metadata": {},
   "outputs": [],
   "source": [
    "from sklearn import preprocessing\n",
    "\n",
    "def PCAshow(k):\n",
    "    pca = PCA(k)\n",
    "    lower_dimension_data = pca.fit_transform(preprocessing.scale(df_train_x)) # PCA on data\n",
    "    approximation = pca.inverse_transform(lower_dimension_data)  # Reconstruct Images\n",
    "    face5pca = approximation[4] # Select Image 5\n",
    "    image5pca = np.reshape(face5pca, (92,112)) # Image to Matrix \n",
    "    plt.imshow(image5pca.transpose(), cmap = plt.cm.Greys_r) # Plot image"
   ]
  },
  {
   "cell_type": "markdown",
   "metadata": {},
   "source": [
    "**The same picture with a pca for k = 5**"
   ]
  },
  {
   "cell_type": "code",
   "execution_count": 23,
   "metadata": {},
   "outputs": [
    {
     "data": {
      "image/png": "[encoded data removed]",
      "text/plain": [
       "<Figure size 432x288 with 1 Axes>"
      ]
     },
     "metadata": {
      "needs_background": "light"
     },
     "output_type": "display_data"
    }
   ],
   "source": [
    "PCAshow(5)"
   ]
  },
  {
   "cell_type": "markdown",
   "metadata": {},
   "source": [
    "**the same picture with a pca for k = 10**"
   ]
  },
  {
   "cell_type": "code",
   "execution_count": 24,
   "metadata": {
    "scrolled": false
   },
   "outputs": [
    {
     "data": {
      "image/png": "[encoded data removed]",
      "text/plain": [
       "<Figure size 432x288 with 1 Axes>"
      ]
     },
     "metadata": {
      "needs_background": "light"
     },
     "output_type": "display_data"
    }
   ],
   "source": [
    "PCAshow(10)"
   ]
  },
  {
   "cell_type": "markdown",
   "metadata": {},
   "source": [
    "**the same picture with a pca for k = 50**"
   ]
  },
  {
   "cell_type": "code",
   "execution_count": 25,
   "metadata": {},
   "outputs": [
    {
     "data": {
      "image/png": "[encoded data removed]",
      "text/plain": [
       "<Figure size 432x288 with 1 Axes>"
      ]
     },
     "metadata": {
      "needs_background": "light"
     },
     "output_type": "display_data"
    }
   ],
   "source": [
    "PCAshow(50)"
   ]
  },
  {
   "cell_type": "markdown",
   "metadata": {},
   "source": [
    "## 1.4 How to accelerate PCA?"
   ]
  },
  {
   "cell_type": "markdown",
   "metadata": {},
   "source": [
    "- Reduce the number of images to train (rows)\n",
    "- Reduce the initial number of columns"
   ]
  },
  {
   "cell_type": "markdown",
   "metadata": {},
   "source": [
    "### **Resize images to accelerate the PCA**"
   ]
  },
  {
   "cell_type": "markdown",
   "metadata": {},
   "source": [
    "Creation of a new PCA function that allows learning with `df_train_x` data on test data"
   ]
  },
  {
   "cell_type": "code",
   "execution_count": 26,
   "metadata": {},
   "outputs": [],
   "source": [
    "def my_PCA2(k, X=df_train_x, Y=df_test_x):\n",
    "    pca = PCA(n_components = k, svd_solver = 'full')\n",
    "    data_pca_train = pca.fit_transform(scale(X))\n",
    "    data_pca_test  = pca.transform(scale(Y))\n",
    "    return(data_pca_train, data_pca_test)"
   ]
  },
  {
   "cell_type": "code",
   "execution_count": 27,
   "metadata": {
    "scrolled": true
   },
   "outputs": [],
   "source": [
    "liste = []\n",
    "ligne = range(320)\n",
    "\n",
    "\n",
    "for a in range(0,len(df_train_x.columns),4):\n",
    "    liste.append(df_train_x.loc[ligne, [a,a+1,a+2,a+3]].mean(1))\n",
    "\n",
    "df_train_x_reduce = pd.DataFrame(liste).T\n",
    "  "
   ]
  },
  {
   "cell_type": "code",
   "execution_count": 28,
   "metadata": {},
   "outputs": [],
   "source": [
    "liste2 = []\n",
    "ligne2 = range(80)\n",
    "\n",
    "for a in range(0,len(df_test_x.columns),4):\n",
    "    liste2.append(df_test_x.loc[ligne2, [a,a+1,a+2,a+3]].mean(1))\n",
    "\n",
    "df_test_x_reduce = pd.DataFrame(liste2).T"
   ]
  },
  {
   "cell_type": "code",
   "execution_count": 29,
   "metadata": {},
   "outputs": [
    {
     "data": {
      "text/plain": [
       "((320, 2576), (80, 2576))"
      ]
     },
     "execution_count": 29,
     "metadata": {},
     "output_type": "execute_result"
    }
   ],
   "source": [
    "df_train_x_reduce.shape, df_test_x_reduce.shape"
   ]
  },
  {
   "cell_type": "code",
   "execution_count": 30,
   "metadata": {},
   "outputs": [
    {
     "data": {
      "text/plain": [
       "0.31517958641052246"
      ]
     },
     "execution_count": 30,
     "metadata": {},
     "output_type": "execute_result"
    }
   ],
   "source": [
    "tic = time.time()\n",
    "my_PCA2(50)\n",
    "tac = time.time()\n",
    "tac - tic "
   ]
  },
  {
   "cell_type": "code",
   "execution_count": 31,
   "metadata": {},
   "outputs": [
    {
     "data": {
      "text/plain": [
       "0.11051726341247559"
      ]
     },
     "execution_count": 31,
     "metadata": {},
     "output_type": "execute_result"
    }
   ],
   "source": [
    "tic = time.time()\n",
    "my_PCA2(50, X = df_train_x_reduce, Y = df_test_x_reduce)\n",
    "tac = time.time()\n",
    "tac - tic "
   ]
  },
  {
   "cell_type": "markdown",
   "metadata": {},
   "source": [
    "The pca is faster but we have to check that the predictions are good (1.6)"
   ]
  },
  {
   "cell_type": "markdown",
   "metadata": {},
   "source": [
    "## 1.5 Classification with K Nearest Neighborhood"
   ]
  },
  {
   "cell_type": "markdown",
   "metadata": {},
   "source": [
    "### Implementation of KNN"
   ]
  },
  {
   "cell_type": "code",
   "execution_count": 32,
   "metadata": {},
   "outputs": [],
   "source": [
    "def euclidean_dist(X_train_elm, elm):\n",
    "    dist = np.sqrt(np.sum(pow(elm - X_train_elm, 2)))\n",
    "    return dist"
   ]
  },
  {
   "cell_type": "code",
   "execution_count": 33,
   "metadata": {},
   "outputs": [],
   "source": [
    "def find_nn(X_train, elm, k):\n",
    "    dist_arr = {}\n",
    "    \n",
    "    for X_train_elm, i in zip(X_train.values, range(1, X_train.shape[0] + 1)):\n",
    "        dist = euclidean_dist(X_train_elm, elm)        \n",
    "        dist_arr[i] = dist\n",
    "\n",
    "    arr_sort = sorted(dist_arr.items(), key=lambda kv: kv[1])\n",
    "    \n",
    "    return arr_sort[0:k]"
   ]
  },
  {
   "cell_type": "code",
   "execution_count": 34,
   "metadata": {},
   "outputs": [],
   "source": [
    "def max_nn(k_nn, Y_train):\n",
    "    index_nn = [tupl[0] - 1 for tupl in k_nn]\n",
    "    \n",
    "    #print(index_nn)\n",
    "    \n",
    "    \n",
    "    k_nn_classe = Y_train[index_nn]\n",
    "    k_nn_classe = np.ndarray.tolist(k_nn_classe)\n",
    "    \n",
    "    return max(k_nn_classe, key=k_nn_classe.count)"
   ]
  },
  {
   "cell_type": "code",
   "execution_count": 35,
   "metadata": {},
   "outputs": [],
   "source": [
    "def my_knn(X_train, Y_train, X_test, k):\n",
    "    Y_pred = []\n",
    "    \n",
    "    for elm in X_test.values:\n",
    "        k_nn = find_nn(X_train, elm, k)\n",
    "        classe = max_nn(k_nn, Y_train)\n",
    "        Y_pred.append(classe)\n",
    "        \n",
    "    return Y_pred"
   ]
  },
  {
   "cell_type": "markdown",
   "metadata": {},
   "source": [
    "## 1.6 Prediction"
   ]
  },
  {
   "cell_type": "markdown",
   "metadata": {},
   "source": [
    "### Test our KNN without PCA"
   ]
  },
  {
   "cell_type": "code",
   "execution_count": 36,
   "metadata": {},
   "outputs": [
    {
     "name": "stdout",
     "output_type": "stream",
     "text": [
      "Shape of Y_train: (320,)\n",
      "Shape of Y_test: (80,)\n"
     ]
    }
   ],
   "source": [
    "# Get Y train values\n",
    "Y_train = df_train_y.values.T\n",
    "Y_train = Y_train.ravel()\n",
    "# like: Y_train = Y_train.reshape(Y_train.shape[0], )\n",
    "\n",
    "Y_test = df_test_y.values.T\n",
    "Y_test = Y_test.ravel()\n",
    "\n",
    "print(\"Shape of Y_train: {}\\nShape of Y_test: {}\".format(Y_train.shape, Y_test.shape))"
   ]
  },
  {
   "cell_type": "code",
   "execution_count": 37,
   "metadata": {},
   "outputs": [],
   "source": [
    "Y_pred = my_knn(df_train_x, Y_train, df_test_x, 5)"
   ]
  },
  {
   "cell_type": "code",
   "execution_count": 38,
   "metadata": {},
   "outputs": [
    {
     "name": "stdout",
     "output_type": "stream",
     "text": [
      "1  1  2  2  3  3  4  4  5  18  6  6  7  7  8  8  9  9  10  8  11  11  12  12  13  13  14  14  15  15  16  16  17  17  18  18  15  19  20  20  21  21  22  22  23  23  24  24  25  25  26  26  27  27  28  28  29  29  30  30  31  31  32  32  33  33  34  34  35  35  36  17  37  37  38  38  39  39  40  5  "
     ]
    }
   ],
   "source": [
    "_ = [print(elm, ' ', end='') for elm in Y_pred]"
   ]
  },
  {
   "cell_type": "code",
   "execution_count": 39,
   "metadata": {},
   "outputs": [
    {
     "name": "stdout",
     "output_type": "stream",
     "text": [
      "Accuracy: 93.75 %\n"
     ]
    }
   ],
   "source": [
    "from sklearn import metrics\n",
    "\n",
    "print(\"Accuracy:\", metrics.accuracy_score(Y_test, Y_pred) * 100, '%')"
   ]
  },
  {
   "cell_type": "markdown",
   "metadata": {},
   "source": [
    "### Test our KNN with PCA"
   ]
  },
  {
   "cell_type": "code",
   "execution_count": 40,
   "metadata": {},
   "outputs": [],
   "source": [
    "def knn_pca(k_pca, k_knn, df_train_x, df_test_x):\n",
    "    X_train_reduced, X_test_reduced = my_PCA2(k_pca)\n",
    "    # Launch the KNN\n",
    "    Y_pred = my_knn(pd.DataFrame(X_train_reduced), Y_train, pd.DataFrame(X_test_reduced), k_knn)\n",
    "    print(\"For a reduction dimension of {} and a k of {}, the accuracy is: {}%\"\n",
    "          .format(k_pca, k_knn, metrics.accuracy_score(Y_test, Y_pred) * 100))"
   ]
  },
  {
   "cell_type": "code",
   "execution_count": 41,
   "metadata": {},
   "outputs": [
    {
     "name": "stdout",
     "output_type": "stream",
     "text": [
      "For a reduction dimension of 50 and a k of 5, the accuracy is: 95.0%\n"
     ]
    }
   ],
   "source": [
    "knn_pca(50, 5, df_train_x, df_test_x)"
   ]
  },
  {
   "cell_type": "code",
   "execution_count": 42,
   "metadata": {},
   "outputs": [
    {
     "name": "stdout",
     "output_type": "stream",
     "text": [
      "For a reduction dimension of 10 and a k of 3, the accuracy is: 86.25%\n"
     ]
    }
   ],
   "source": [
    "knn_pca(10, 3, df_train_x, df_test_x)"
   ]
  },
  {
   "cell_type": "code",
   "execution_count": 43,
   "metadata": {},
   "outputs": [
    {
     "name": "stdout",
     "output_type": "stream",
     "text": [
      "For a reduction dimension of 5 and a k of 7, the accuracy is: 72.5%\n"
     ]
    }
   ],
   "source": [
    "knn_pca(5, 7, df_train_x, df_test_x)"
   ]
  },
  {
   "cell_type": "markdown",
   "metadata": {},
   "source": [
    "When a K-Nearest Neigborhood is done **without a PCA**, the accuracy score is **great (~95%) best than without CPA !** The hyperparameter k for the KNN is best with an prime number. \n",
    "In another hand, when the face classification is done **with a PCA**, the accuracy score is **the same**, and decrease more the reduction PCA is lower (~85%, ~76%).\n",
    "\n",
    "**The scores obtained with the PCA are excellent, the PCA saves time on the calculations for a similar result**"
   ]
  },
  {
   "cell_type": "code",
   "execution_count": 44,
   "metadata": {},
   "outputs": [
    {
     "name": "stdout",
     "output_type": "stream",
     "text": [
      "For a reduction dimension of 50 and a k of 5, the accuracy is: 95.0%\n"
     ]
    }
   ],
   "source": [
    "tic = time.time()\n",
    "knn_pca(50, 5, df_train_x, df_test_x)\n",
    "tac = time.time()\n",
    "time_with_pca = tac - tic "
   ]
  },
  {
   "cell_type": "code",
   "execution_count": 45,
   "metadata": {},
   "outputs": [],
   "source": [
    "tic = time.time()\n",
    "my_knn(df_train_x, Y_train, df_test_x, 5)\n",
    "tac = time.time()\n",
    "time_without_pca = tac - tic"
   ]
  },
  {
   "cell_type": "code",
   "execution_count": 46,
   "metadata": {},
   "outputs": [
    {
     "data": {
      "text/plain": [
       "10.423196405539738"
      ]
     },
     "execution_count": 46,
     "metadata": {},
     "output_type": "execute_result"
    }
   ],
   "source": [
    "time_without_pca / time_with_pca"
   ]
  },
  {
   "cell_type": "markdown",
   "metadata": {},
   "source": [
    "PCA is therefore an excellent method to reduce the size of a matrix by losing very little information.   \n",
    "For the same result without PCA, the algorithm takes about ~ **10 times longer** !!"
   ]
  },
  {
   "cell_type": "markdown",
   "metadata": {},
   "source": [
    "---"
   ]
  },
  {
   "cell_type": "markdown",
   "metadata": {},
   "source": [
    "### **Sklearn KNN test**"
   ]
  },
  {
   "cell_type": "code",
   "execution_count": 47,
   "metadata": {},
   "outputs": [],
   "source": [
    "from sklearn.neighbors import KNeighborsClassifier"
   ]
  },
  {
   "cell_type": "code",
   "execution_count": 48,
   "metadata": {
    "scrolled": false
   },
   "outputs": [
    {
     "data": {
      "text/plain": [
       "KNeighborsClassifier(algorithm='auto', leaf_size=30, metric='minkowski',\n",
       "           metric_params=None, n_jobs=1, n_neighbors=5, p=2,\n",
       "           weights='distance')"
      ]
     },
     "execution_count": 48,
     "metadata": {},
     "output_type": "execute_result"
    }
   ],
   "source": [
    "knn = KNeighborsClassifier(n_neighbors = 5, weights = \"distance\")\n",
    "knn.fit(df_train_x, np.ravel(df_train_y))"
   ]
  },
  {
   "cell_type": "code",
   "execution_count": 49,
   "metadata": {},
   "outputs": [
    {
     "data": {
      "text/plain": [
       "array([ True,  True,  True,  True,  True,  True,  True,  True,  True,\n",
       "       False,  True,  True,  True,  True,  True,  True,  True,  True,\n",
       "        True, False,  True,  True,  True,  True,  True,  True,  True,\n",
       "        True,  True,  True,  True,  True,  True,  True,  True,  True,\n",
       "       False,  True,  True,  True,  True,  True,  True,  True,  True,\n",
       "        True,  True,  True,  True,  True,  True,  True,  True,  True,\n",
       "        True,  True,  True,  True,  True,  True,  True,  True,  True,\n",
       "        True,  True,  True,  True,  True,  True,  True,  True, False,\n",
       "        True,  True,  True,  True,  True,  True,  True, False])"
      ]
     },
     "execution_count": 49,
     "metadata": {},
     "output_type": "execute_result"
    }
   ],
   "source": [
    "predict = knn.predict(df_test_x)\n",
    "true = np.ravel(df_test_y)\n",
    "predict == true "
   ]
  },
  {
   "cell_type": "code",
   "execution_count": 50,
   "metadata": {
    "scrolled": false
   },
   "outputs": [
    {
     "name": "stdout",
     "output_type": "stream",
     "text": [
      "The accuracy with knn from sklearn is : 93.75 %\n"
     ]
    }
   ],
   "source": [
    "print(\"The accuracy with knn from sklearn is : {} %\".format(knn.score(df_test_x, df_test_y.T)*100))"
   ]
  },
  {
   "cell_type": "code",
   "execution_count": 51,
   "metadata": {},
   "outputs": [],
   "source": [
    "# Create a function \n",
    "\n",
    "def knn_sklearn(n_neighbors, X_train, X_test) :\n",
    "    knn = KNeighborsClassifier(n_neighbors = n_neighbors, weights = \"distance\")\n",
    "    knn.fit(X_train, np.ravel(df_train_y))\n",
    "    knn.predict(X_test)\n",
    "    print(\"The accuracy with knn from sklearn is : {} %\".format(knn.score(X_test, df_test_y.T)*100))"
   ]
  },
  {
   "cell_type": "code",
   "execution_count": 52,
   "metadata": {},
   "outputs": [
    {
     "name": "stdout",
     "output_type": "stream",
     "text": [
      "The accuracy with knn from sklearn is : 93.75 %\n"
     ]
    }
   ],
   "source": [
    "knn_sklearn(5, df_train_x, df_test_x)"
   ]
  },
  {
   "cell_type": "code",
   "execution_count": 53,
   "metadata": {},
   "outputs": [],
   "source": [
    "# With PCA\n",
    "def knn_sklearn_pca(n_neighbors, k_pca, X_train, X_test) :\n",
    "    X_train_reduced, X_test_reduced = my_PCA2(k_pca)\n",
    "    knn = KNeighborsClassifier(n_neighbors = n_neighbors, weights = \"distance\")\n",
    "    knn.fit(X_train_reduced, np.ravel(df_train_y))\n",
    "    knn.predict(X_test_reduced)\n",
    "    print(\"For a reduction dimension of {} and a k of {}, the accuracy is: {}%\"\n",
    "          .format(k_pca, n_neighbors, knn.score(X_test_reduced, df_test_y.T)*100))\n",
    "    "
   ]
  },
  {
   "cell_type": "code",
   "execution_count": 54,
   "metadata": {
    "scrolled": true
   },
   "outputs": [
    {
     "name": "stdout",
     "output_type": "stream",
     "text": [
      "For a reduction dimension of 50 and a k of 5, the accuracy is: 95.0%\n"
     ]
    }
   ],
   "source": [
    "knn_sklearn_pca(5, 50, df_train_x, df_test_x)"
   ]
  },
  {
   "cell_type": "code",
   "execution_count": 55,
   "metadata": {},
   "outputs": [
    {
     "name": "stdout",
     "output_type": "stream",
     "text": [
      "For a reduction dimension of 10 and a k of 5, the accuracy is: 87.5%\n"
     ]
    }
   ],
   "source": [
    "knn_sklearn_pca(5, 10, df_train_x, df_test_x)"
   ]
  },
  {
   "cell_type": "code",
   "execution_count": 56,
   "metadata": {},
   "outputs": [
    {
     "name": "stdout",
     "output_type": "stream",
     "text": [
      "For a reduction dimension of 5 and a k of 5, the accuracy is: 76.25%\n"
     ]
    }
   ],
   "source": [
    "knn_sklearn_pca(5, 5, df_train_x, df_test_x)"
   ]
  },
  {
   "cell_type": "markdown",
   "metadata": {},
   "source": [
    "**Results similar to our KNN, so it's good**"
   ]
  },
  {
   "cell_type": "markdown",
   "metadata": {},
   "source": [
    "## 1.7 Improve Model"
   ]
  },
  {
   "cell_type": "markdown",
   "metadata": {},
   "source": [
    "- Make the model faster\n",
    "- Subtract the average face from all faces\n",
    "- Neural Network\n",
    "- Random Forest\n",
    "- More data\n",
    "- Do multiple model of clustering classification and do a voting system like boosting on it"
   ]
  },
  {
   "cell_type": "markdown",
   "metadata": {},
   "source": [
    "---"
   ]
  },
  {
   "cell_type": "markdown",
   "metadata": {},
   "source": [
    "### **PCA test with this new reduced dataframe (1.4)**"
   ]
  },
  {
   "cell_type": "code",
   "execution_count": 57,
   "metadata": {
    "scrolled": true
   },
   "outputs": [
    {
     "data": {
      "text/plain": [
       "KNeighborsClassifier(algorithm='auto', leaf_size=30, metric='minkowski',\n",
       "           metric_params=None, n_jobs=1, n_neighbors=5, p=2,\n",
       "           weights='distance')"
      ]
     },
     "execution_count": 57,
     "metadata": {},
     "output_type": "execute_result"
    }
   ],
   "source": [
    "knn = KNeighborsClassifier(n_neighbors = 5, weights = \"distance\")\n",
    "knn.fit(df_train_x_reduce, np.ravel(df_train_y))"
   ]
  },
  {
   "cell_type": "code",
   "execution_count": 58,
   "metadata": {},
   "outputs": [
    {
     "data": {
      "text/plain": [
       "array([ 1,  1,  2,  2,  3,  3,  4,  4,  5, 18,  6,  6,  7,  7,  8,  8,  9,\n",
       "        9, 10,  8, 11, 11, 12, 12, 13, 13, 14, 14, 15, 15, 16, 16, 17, 17,\n",
       "       18, 18, 15, 19, 20, 20, 21, 21, 22, 22, 23, 23, 24, 24, 25, 25, 26,\n",
       "       26, 27, 27, 28, 28, 29, 29, 30, 30, 31, 31, 32, 32, 33, 33, 34, 34,\n",
       "       35, 35, 36, 17, 37, 37, 38, 38, 39, 39, 40,  5])"
      ]
     },
     "execution_count": 58,
     "metadata": {},
     "output_type": "execute_result"
    }
   ],
   "source": [
    "knn.predict(df_test_x_reduce)"
   ]
  },
  {
   "cell_type": "code",
   "execution_count": 59,
   "metadata": {
    "scrolled": false
   },
   "outputs": [
    {
     "name": "stdout",
     "output_type": "stream",
     "text": [
      "The accuracy with knn from sklearn is : 93.75 %\n"
     ]
    }
   ],
   "source": [
    "print(\"The accuracy with knn from sklearn is : {} %\".format(knn.score(df_test_x_reduce, df_test_y.T)*100))"
   ]
  },
  {
   "cell_type": "code",
   "execution_count": 60,
   "metadata": {},
   "outputs": [
    {
     "name": "stdout",
     "output_type": "stream",
     "text": [
      "The accuracy with knn from sklearn is : 93.75 %\n"
     ]
    }
   ],
   "source": [
    "knn_sklearn(5, df_train_x_reduce, df_test_x_reduce)"
   ]
  },
  {
   "cell_type": "code",
   "execution_count": 61,
   "metadata": {},
   "outputs": [
    {
     "name": "stdout",
     "output_type": "stream",
     "text": [
      "For a reduction dimension of 50 and a k of 5, the accuracy is: 95.0%\n"
     ]
    }
   ],
   "source": [
    "knn_sklearn_pca(5, 50, df_train_x_reduce, df_test_x_reduce)"
   ]
  },
  {
   "cell_type": "code",
   "execution_count": 62,
   "metadata": {},
   "outputs": [
    {
     "name": "stdout",
     "output_type": "stream",
     "text": [
      "The accuracy with knn from sklearn is : 93.75 %\n"
     ]
    },
    {
     "data": {
      "text/plain": [
       "5.290877342224121"
      ]
     },
     "execution_count": 62,
     "metadata": {},
     "output_type": "execute_result"
    }
   ],
   "source": [
    "tic = time.time()\n",
    "knn_sklearn(5, df_train_x, df_test_x)\n",
    "tac = time.time()\n",
    "time_without_reduction = tac - tic\n",
    "time_without_pca"
   ]
  },
  {
   "cell_type": "code",
   "execution_count": 63,
   "metadata": {},
   "outputs": [
    {
     "name": "stdout",
     "output_type": "stream",
     "text": [
      "The accuracy with knn from sklearn is : 93.75 %\n"
     ]
    },
    {
     "data": {
      "text/plain": [
       "0.25048065185546875"
      ]
     },
     "execution_count": 63,
     "metadata": {},
     "output_type": "execute_result"
    }
   ],
   "source": [
    "tic = time.time()\n",
    "knn_sklearn(5, df_train_x_reduce, df_test_x_reduce)\n",
    "tac = time.time()\n",
    "time_with_reduction = tac - tic\n",
    "time_with_reduction"
   ]
  },
  {
   "cell_type": "code",
   "execution_count": 64,
   "metadata": {},
   "outputs": [
    {
     "data": {
      "text/plain": [
       "5.354158401489258"
      ]
     },
     "execution_count": 64,
     "metadata": {},
     "output_type": "execute_result"
    }
   ],
   "source": [
    "tic = time.time()\n",
    "my_knn(df_train_x, Y_train, df_test_x, 5)\n",
    "tac = time.time()\n",
    "time_with_reduction = tac - tic\n",
    "time_with_reduction"
   ]
  },
  {
   "cell_type": "code",
   "execution_count": 65,
   "metadata": {},
   "outputs": [
    {
     "data": {
      "text/plain": [
       "0.32636427879333496"
      ]
     },
     "execution_count": 65,
     "metadata": {},
     "output_type": "execute_result"
    }
   ],
   "source": [
    "tic = time.time()\n",
    "my_knn(df_train_x_reduce, Y_train, df_test_x_reduce, 5)\n",
    "tac = time.time()\n",
    "time_with_reduction = tac - tic\n",
    "time_with_reduction"
   ]
  },
  {
   "cell_type": "markdown",
   "metadata": {},
   "source": [
    "**The predictions are similar and the calculation time of the KNN is faster, so it's a good method**"
   ]
  },
  {
   "cell_type": "markdown",
   "metadata": {},
   "source": [
    "---"
   ]
  },
  {
   "cell_type": "markdown",
   "metadata": {},
   "source": [
    "### Test with the average face subtracted"
   ]
  },
  {
   "cell_type": "code",
   "execution_count": 66,
   "metadata": {},
   "outputs": [
    {
     "data": {
      "text/html": [
       "<div>\n",
       "<style scoped>\n",
       "    .dataframe tbody tr th:only-of-type {\n",
       "        vertical-align: middle;\n",
       "    }\n",
       "\n",
       "    .dataframe tbody tr th {\n",
       "        vertical-align: top;\n",
       "    }\n",
       "\n",
       "    .dataframe thead th {\n",
       "        text-align: right;\n",
       "    }\n",
       "</style>\n",
       "<table border=\"1\" class=\"dataframe\">\n",
       "  <thead>\n",
       "    <tr style=\"text-align: right;\">\n",
       "      <th></th>\n",
       "      <th>0</th>\n",
       "      <th>1</th>\n",
       "      <th>2</th>\n",
       "      <th>3</th>\n",
       "      <th>4</th>\n",
       "      <th>5</th>\n",
       "      <th>6</th>\n",
       "      <th>7</th>\n",
       "      <th>8</th>\n",
       "      <th>9</th>\n",
       "      <th>...</th>\n",
       "      <th>10294</th>\n",
       "      <th>10295</th>\n",
       "      <th>10296</th>\n",
       "      <th>10297</th>\n",
       "      <th>10298</th>\n",
       "      <th>10299</th>\n",
       "      <th>10300</th>\n",
       "      <th>10301</th>\n",
       "      <th>10302</th>\n",
       "      <th>10303</th>\n",
       "    </tr>\n",
       "  </thead>\n",
       "  <tbody>\n",
       "    <tr>\n",
       "      <th>0</th>\n",
       "      <td>-0.170600</td>\n",
       "      <td>-0.174902</td>\n",
       "      <td>-0.124595</td>\n",
       "      <td>-0.147525</td>\n",
       "      <td>-0.167843</td>\n",
       "      <td>-0.179019</td>\n",
       "      <td>-0.155466</td>\n",
       "      <td>-0.159191</td>\n",
       "      <td>-0.175343</td>\n",
       "      <td>-0.176201</td>\n",
       "      <td>...</td>\n",
       "      <td>-0.080821</td>\n",
       "      <td>-0.097500</td>\n",
       "      <td>-0.097083</td>\n",
       "      <td>-0.096483</td>\n",
       "      <td>-0.087292</td>\n",
       "      <td>-0.113444</td>\n",
       "      <td>-0.112120</td>\n",
       "      <td>-0.121078</td>\n",
       "      <td>-0.131605</td>\n",
       "      <td>-0.127696</td>\n",
       "    </tr>\n",
       "    <tr>\n",
       "      <th>1</th>\n",
       "      <td>-0.201973</td>\n",
       "      <td>-0.198431</td>\n",
       "      <td>-0.203027</td>\n",
       "      <td>-0.202427</td>\n",
       "      <td>-0.187451</td>\n",
       "      <td>-0.194706</td>\n",
       "      <td>-0.218211</td>\n",
       "      <td>-0.229779</td>\n",
       "      <td>-0.242010</td>\n",
       "      <td>-0.231103</td>\n",
       "      <td>...</td>\n",
       "      <td>-0.065135</td>\n",
       "      <td>-0.081813</td>\n",
       "      <td>-0.073554</td>\n",
       "      <td>-0.092561</td>\n",
       "      <td>-0.102978</td>\n",
       "      <td>-0.129130</td>\n",
       "      <td>-0.116042</td>\n",
       "      <td>-0.117157</td>\n",
       "      <td>-0.131605</td>\n",
       "      <td>-0.159069</td>\n",
       "    </tr>\n",
       "    <tr>\n",
       "      <th>2</th>\n",
       "      <td>-0.166679</td>\n",
       "      <td>-0.186666</td>\n",
       "      <td>-0.183419</td>\n",
       "      <td>-0.190662</td>\n",
       "      <td>-0.179608</td>\n",
       "      <td>-0.175098</td>\n",
       "      <td>-0.171152</td>\n",
       "      <td>-0.167034</td>\n",
       "      <td>-0.159657</td>\n",
       "      <td>-0.184044</td>\n",
       "      <td>...</td>\n",
       "      <td>-0.123958</td>\n",
       "      <td>-0.128872</td>\n",
       "      <td>-0.140221</td>\n",
       "      <td>-0.151385</td>\n",
       "      <td>-0.161801</td>\n",
       "      <td>-0.180110</td>\n",
       "      <td>-0.174865</td>\n",
       "      <td>-0.168137</td>\n",
       "      <td>-0.162978</td>\n",
       "      <td>0.264461</td>\n",
       "    </tr>\n",
       "    <tr>\n",
       "      <th>3</th>\n",
       "      <td>-0.190208</td>\n",
       "      <td>-0.214117</td>\n",
       "      <td>-0.203027</td>\n",
       "      <td>-0.186740</td>\n",
       "      <td>-0.175686</td>\n",
       "      <td>-0.179019</td>\n",
       "      <td>-0.186838</td>\n",
       "      <td>-0.170956</td>\n",
       "      <td>-0.179265</td>\n",
       "      <td>-0.184044</td>\n",
       "      <td>...</td>\n",
       "      <td>-0.131801</td>\n",
       "      <td>-0.132794</td>\n",
       "      <td>-0.151985</td>\n",
       "      <td>-0.163150</td>\n",
       "      <td>-0.165723</td>\n",
       "      <td>-0.187953</td>\n",
       "      <td>-0.178787</td>\n",
       "      <td>-0.172059</td>\n",
       "      <td>-0.021801</td>\n",
       "      <td>0.233088</td>\n",
       "    </tr>\n",
       "    <tr>\n",
       "      <th>4</th>\n",
       "      <td>0.072537</td>\n",
       "      <td>0.072157</td>\n",
       "      <td>0.079326</td>\n",
       "      <td>0.083848</td>\n",
       "      <td>0.083137</td>\n",
       "      <td>0.087647</td>\n",
       "      <td>0.060221</td>\n",
       "      <td>0.083946</td>\n",
       "      <td>0.079559</td>\n",
       "      <td>0.070858</td>\n",
       "      <td>...</td>\n",
       "      <td>-0.033762</td>\n",
       "      <td>-0.026912</td>\n",
       "      <td>-0.050025</td>\n",
       "      <td>-0.045502</td>\n",
       "      <td>-0.028468</td>\n",
       "      <td>-0.035012</td>\n",
       "      <td>-0.029767</td>\n",
       "      <td>-0.030882</td>\n",
       "      <td>-0.049252</td>\n",
       "      <td>-0.068873</td>\n",
       "    </tr>\n",
       "  </tbody>\n",
       "</table>\n",
       "<p>5 rows × 10304 columns</p>\n",
       "</div>"
      ],
      "text/plain": [
       "      0         1         2         3         4         5         6      \\\n",
       "0 -0.170600 -0.174902 -0.124595 -0.147525 -0.167843 -0.179019 -0.155466   \n",
       "1 -0.201973 -0.198431 -0.203027 -0.202427 -0.187451 -0.194706 -0.218211   \n",
       "2 -0.166679 -0.186666 -0.183419 -0.190662 -0.179608 -0.175098 -0.171152   \n",
       "3 -0.190208 -0.214117 -0.203027 -0.186740 -0.175686 -0.179019 -0.186838   \n",
       "4  0.072537  0.072157  0.079326  0.083848  0.083137  0.087647  0.060221   \n",
       "\n",
       "      7         8         9        ...        10294     10295     10296  \\\n",
       "0 -0.159191 -0.175343 -0.176201    ...    -0.080821 -0.097500 -0.097083   \n",
       "1 -0.229779 -0.242010 -0.231103    ...    -0.065135 -0.081813 -0.073554   \n",
       "2 -0.167034 -0.159657 -0.184044    ...    -0.123958 -0.128872 -0.140221   \n",
       "3 -0.170956 -0.179265 -0.184044    ...    -0.131801 -0.132794 -0.151985   \n",
       "4  0.083946  0.079559  0.070858    ...    -0.033762 -0.026912 -0.050025   \n",
       "\n",
       "      10297     10298     10299     10300     10301     10302     10303  \n",
       "0 -0.096483 -0.087292 -0.113444 -0.112120 -0.121078 -0.131605 -0.127696  \n",
       "1 -0.092561 -0.102978 -0.129130 -0.116042 -0.117157 -0.131605 -0.159069  \n",
       "2 -0.151385 -0.161801 -0.180110 -0.174865 -0.168137 -0.162978  0.264461  \n",
       "3 -0.163150 -0.165723 -0.187953 -0.178787 -0.172059 -0.021801  0.233088  \n",
       "4 -0.045502 -0.028468 -0.035012 -0.029767 -0.030882 -0.049252 -0.068873  \n",
       "\n",
       "[5 rows x 10304 columns]"
      ]
     },
     "execution_count": 66,
     "metadata": {},
     "output_type": "execute_result"
    }
   ],
   "source": [
    "df_train_x_2 = df_train_x - face_mean\n",
    "df_test_x_2 = df_test_x - face_mean\n",
    "df_test_x_2.head()"
   ]
  },
  {
   "cell_type": "code",
   "execution_count": 67,
   "metadata": {},
   "outputs": [
    {
     "name": "stdout",
     "output_type": "stream",
     "text": [
      "Accuracy: 93.75 %\n"
     ]
    }
   ],
   "source": [
    "# Without PCA\n",
    "Y_pred = my_knn(df_train_x_2, Y_train, df_test_x_2, 5)\n",
    "print(\"Accuracy:\", metrics.accuracy_score(Y_test, Y_pred) * 100, '%')"
   ]
  },
  {
   "cell_type": "code",
   "execution_count": 68,
   "metadata": {
    "scrolled": true
   },
   "outputs": [
    {
     "name": "stdout",
     "output_type": "stream",
     "text": [
      "For a reduction dimension of 50 and a k of 5, the accuracy is: 95.0%\n"
     ]
    }
   ],
   "source": [
    "# With PCA\n",
    "knn_pca(50, 5, df_train_x_2, df_test_x_2)"
   ]
  },
  {
   "cell_type": "markdown",
   "metadata": {},
   "source": [
    "**The results are equivalent, it does not seem useful to subtract the average face**"
   ]
  },
  {
   "cell_type": "markdown",
   "metadata": {},
   "source": [
    "---"
   ]
  },
  {
   "cell_type": "markdown",
   "metadata": {},
   "source": [
    "### Neural Network"
   ]
  },
  {
   "cell_type": "code",
   "execution_count": 69,
   "metadata": {},
   "outputs": [
    {
     "name": "stderr",
     "output_type": "stream",
     "text": [
      "Using TensorFlow backend.\n"
     ]
    }
   ],
   "source": [
    "from keras.models import Sequential\n",
    "from keras.layers import Dense\n",
    "\n",
    "import tensorflow as tf\n",
    "from tensorflow import keras"
   ]
  },
  {
   "cell_type": "code",
   "execution_count": 70,
   "metadata": {},
   "outputs": [
    {
     "name": "stdout",
     "output_type": "stream",
     "text": [
      "WARNING:tensorflow:From /home/maxime/anaconda3/lib/python3.7/site-packages/tensorflow/python/framework/op_def_library.py:263: colocate_with (from tensorflow.python.framework.ops) is deprecated and will be removed in a future version.\n",
      "Instructions for updating:\n",
      "Colocations handled automatically by placer.\n"
     ]
    }
   ],
   "source": [
    "classifier = Sequential()\n",
    "classifier.add(Dense(5000, activation='relu', kernel_initializer='random_normal', input_dim=50))\n",
    "classifier.add(Dense(2000, activation='relu', kernel_initializer='random_normal'))\n",
    "classifier.add(Dense(1000, activation='relu', kernel_initializer='random_normal'))\n",
    "classifier.add(Dense(500, activation='relu', kernel_initializer='random_normal'))\n",
    "classifier.add(Dense(40, activation='softmax', kernel_initializer='random_normal'))"
   ]
  },
  {
   "cell_type": "code",
   "execution_count": 71,
   "metadata": {},
   "outputs": [
    {
     "data": {
      "text/plain": [
       "OneHotEncoder(categorical_features='all', dtype=<class 'numpy.float64'>,\n",
       "       handle_unknown='error', n_values=array([ 1,  1, ..., 40, 40]),\n",
       "       sparse=True)"
      ]
     },
     "execution_count": 71,
     "metadata": {},
     "output_type": "execute_result"
    }
   ],
   "source": [
    "X_train_50 = my_PCA(50, X=df_train_x)\n",
    "OneHotEncoder(Y_train)"
   ]
  },
  {
   "cell_type": "code",
   "execution_count": 72,
   "metadata": {},
   "outputs": [],
   "source": [
    "#classifier.compile(loss='categorical_crossentropy', optimizer='adadelta')\n",
    "#classifier.fit(X_train_50, df_train_y, batch_size=10, epochs=100)"
   ]
  },
  {
   "cell_type": "code",
   "execution_count": 73,
   "metadata": {},
   "outputs": [],
   "source": [
    "#X_test_50 = my_PCA(50, X=df_test_x)"
   ]
  },
  {
   "cell_type": "markdown",
   "metadata": {},
   "source": [
    "---"
   ]
  },
  {
   "cell_type": "markdown",
   "metadata": {},
   "source": [
    "### Random Forests"
   ]
  },
  {
   "cell_type": "code",
   "execution_count": 74,
   "metadata": {},
   "outputs": [],
   "source": [
    "import warnings\n",
    "warnings.filterwarnings(\"ignore\", category=DeprecationWarning) \n",
    "from sklearn.ensemble import RandomForestClassifier"
   ]
  },
  {
   "cell_type": "code",
   "execution_count": 75,
   "metadata": {},
   "outputs": [],
   "source": [
    "clf=RandomForestClassifier(n_estimators=500)\n",
    "clf.fit(df_train_x,Y_train)\n",
    "y_pred=clf.predict(df_test_x)"
   ]
  },
  {
   "cell_type": "code",
   "execution_count": 76,
   "metadata": {},
   "outputs": [
    {
     "data": {
      "text/plain": [
       "array([[ True,  True,  True,  True,  True,  True,  True,  True,  True,\n",
       "         True,  True,  True,  True,  True,  True,  True,  True,  True,\n",
       "         True,  True,  True,  True,  True,  True,  True,  True,  True,\n",
       "         True,  True,  True,  True,  True,  True,  True,  True,  True,\n",
       "        False,  True,  True,  True,  True,  True,  True,  True,  True,\n",
       "         True,  True,  True,  True,  True,  True,  True,  True,  True,\n",
       "         True,  True,  True,  True,  True,  True,  True,  True,  True,\n",
       "         True,  True,  True,  True,  True,  True,  True,  True,  True,\n",
       "         True,  True,  True,  True,  True,  True, False,  True]])"
      ]
     },
     "execution_count": 76,
     "metadata": {},
     "output_type": "execute_result"
    }
   ],
   "source": [
    "y_pred == df_test_y.values"
   ]
  },
  {
   "cell_type": "code",
   "execution_count": 77,
   "metadata": {
    "scrolled": true
   },
   "outputs": [
    {
     "name": "stdout",
     "output_type": "stream",
     "text": [
      "Accuracy: 97.5 %\n"
     ]
    }
   ],
   "source": [
    "from sklearn import metrics\n",
    "\n",
    "print(\"Accuracy: {} %\".format(metrics.accuracy_score(df_test_y.T, y_pred)*100))"
   ]
  },
  {
   "cell_type": "markdown",
   "metadata": {},
   "source": [
    "**Random forest technique is excellent**"
   ]
  },
  {
   "cell_type": "markdown",
   "metadata": {},
   "source": [
    "## With PCA"
   ]
  },
  {
   "cell_type": "code",
   "execution_count": 78,
   "metadata": {},
   "outputs": [
    {
     "name": "stdout",
     "output_type": "stream",
     "text": [
      "Accuracy: 92.5\n"
     ]
    }
   ],
   "source": [
    "data_pca_train, data_pca_test = my_PCA2(50)\n",
    "\n",
    "\n",
    "clf=RandomForestClassifier(n_estimators=500)\n",
    "clf.fit(data_pca_train,Y_train)\n",
    "y_pred=clf.predict(data_pca_test)\n",
    "print(\"Accuracy:\",metrics.accuracy_score(df_test_y.T, y_pred)*100)"
   ]
  },
  {
   "cell_type": "markdown",
   "metadata": {},
   "source": [
    "**The random forest technique is better without PCA**"
   ]
  },
  {
   "cell_type": "markdown",
   "metadata": {},
   "source": [
    "---"
   ]
  },
  {
   "cell_type": "markdown",
   "metadata": {},
   "source": [
    "# 2. Exercise 2 (40%)"
   ]
  },
  {
   "cell_type": "markdown",
   "metadata": {},
   "source": [
    "# Data Mining on Uber data"
   ]
  },
  {
   "cell_type": "markdown",
   "metadata": {},
   "source": [
    "### Import libraries"
   ]
  },
  {
   "cell_type": "code",
   "execution_count": 79,
   "metadata": {},
   "outputs": [],
   "source": [
    "import matplotlib.pyplot as plt\n",
    "import numpy as np\n",
    "import pandas as pd\n",
    "\n",
    "from sklearn import preprocessing\n",
    "from sklearn.linear_model import LogisticRegression"
   ]
  },
  {
   "cell_type": "markdown",
   "metadata": {},
   "source": [
    "### Load data and print info"
   ]
  },
  {
   "cell_type": "code",
   "execution_count": 80,
   "metadata": {},
   "outputs": [
    {
     "name": "stdout",
     "output_type": "stream",
     "text": [
      "<class 'pandas.core.frame.DataFrame'>\n",
      "RangeIndex: 73890 entries, 0 to 73889\n",
      "Data columns (total 9 columns):\n",
      "user        73890 non-null object\n",
      "fare        73890 non-null float64\n",
      "product     73890 non-null object\n",
      "date        73890 non-null object\n",
      "distance    73890 non-null float64\n",
      "duration    73890 non-null int64\n",
      "pickup      59371 non-null float64\n",
      "start       73890 non-null object\n",
      "end         73890 non-null object\n",
      "dtypes: float64(3), int64(1), object(5)\n",
      "memory usage: 5.1+ MB\n",
      "None\n"
     ]
    }
   ],
   "source": [
    "filename = \"../data/Uber_data.csv\"\n",
    "df1 = pd.read_csv(filename, sep=';')\n",
    "print(df1.info())"
   ]
  },
  {
   "cell_type": "markdown",
   "metadata": {},
   "source": [
    "## Explore Data"
   ]
  },
  {
   "cell_type": "code",
   "execution_count": 81,
   "metadata": {},
   "outputs": [
    {
     "data": {
      "text/html": [
       "<div>\n",
       "<style scoped>\n",
       "    .dataframe tbody tr th:only-of-type {\n",
       "        vertical-align: middle;\n",
       "    }\n",
       "\n",
       "    .dataframe tbody tr th {\n",
       "        vertical-align: top;\n",
       "    }\n",
       "\n",
       "    .dataframe thead th {\n",
       "        text-align: right;\n",
       "    }\n",
       "</style>\n",
       "<table border=\"1\" class=\"dataframe\">\n",
       "  <thead>\n",
       "    <tr style=\"text-align: right;\">\n",
       "      <th></th>\n",
       "      <th>user</th>\n",
       "      <th>fare</th>\n",
       "      <th>product</th>\n",
       "      <th>date</th>\n",
       "      <th>distance</th>\n",
       "      <th>duration</th>\n",
       "      <th>pickup</th>\n",
       "      <th>start</th>\n",
       "      <th>end</th>\n",
       "    </tr>\n",
       "  </thead>\n",
       "  <tbody>\n",
       "    <tr>\n",
       "      <th>0</th>\n",
       "      <td>male</td>\n",
       "      <td>9.38</td>\n",
       "      <td>uberx</td>\n",
       "      <td>2018-04-18 15:08:14</td>\n",
       "      <td>1.84</td>\n",
       "      <td>720</td>\n",
       "      <td>NaN</td>\n",
       "      <td>37.77 -122.41</td>\n",
       "      <td>37.79 -122.41</td>\n",
       "    </tr>\n",
       "    <tr>\n",
       "      <th>1</th>\n",
       "      <td>male</td>\n",
       "      <td>12.32</td>\n",
       "      <td>uberxl</td>\n",
       "      <td>2018-04-18 15:08:14</td>\n",
       "      <td>1.84</td>\n",
       "      <td>720</td>\n",
       "      <td>5.0</td>\n",
       "      <td>37.77 -122.41</td>\n",
       "      <td>37.79 -122.41</td>\n",
       "    </tr>\n",
       "    <tr>\n",
       "      <th>2</th>\n",
       "      <td>male</td>\n",
       "      <td>23.86</td>\n",
       "      <td>uberblack</td>\n",
       "      <td>2018-04-18 15:08:14</td>\n",
       "      <td>1.84</td>\n",
       "      <td>720</td>\n",
       "      <td>5.0</td>\n",
       "      <td>37.77 -122.41</td>\n",
       "      <td>37.79 -122.41</td>\n",
       "    </tr>\n",
       "    <tr>\n",
       "      <th>3</th>\n",
       "      <td>male</td>\n",
       "      <td>33.75</td>\n",
       "      <td>suv</td>\n",
       "      <td>2018-04-18 15:08:14</td>\n",
       "      <td>1.84</td>\n",
       "      <td>720</td>\n",
       "      <td>5.0</td>\n",
       "      <td>37.77 -122.41</td>\n",
       "      <td>37.79 -122.41</td>\n",
       "    </tr>\n",
       "    <tr>\n",
       "      <th>4</th>\n",
       "      <td>male</td>\n",
       "      <td>6.33</td>\n",
       "      <td>rideshare</td>\n",
       "      <td>2018-04-18 15:08:14</td>\n",
       "      <td>1.84</td>\n",
       "      <td>720</td>\n",
       "      <td>2.0</td>\n",
       "      <td>37.77 -122.41</td>\n",
       "      <td>37.79 -122.41</td>\n",
       "    </tr>\n",
       "  </tbody>\n",
       "</table>\n",
       "</div>"
      ],
      "text/plain": [
       "   user   fare    product                 date  distance  duration  pickup  \\\n",
       "0  male   9.38      uberx  2018-04-18 15:08:14      1.84       720     NaN   \n",
       "1  male  12.32     uberxl  2018-04-18 15:08:14      1.84       720     5.0   \n",
       "2  male  23.86  uberblack  2018-04-18 15:08:14      1.84       720     5.0   \n",
       "3  male  33.75        suv  2018-04-18 15:08:14      1.84       720     5.0   \n",
       "4  male   6.33  rideshare  2018-04-18 15:08:14      1.84       720     2.0   \n",
       "\n",
       "           start            end  \n",
       "0  37.77 -122.41  37.79 -122.41  \n",
       "1  37.77 -122.41  37.79 -122.41  \n",
       "2  37.77 -122.41  37.79 -122.41  \n",
       "3  37.77 -122.41  37.79 -122.41  \n",
       "4  37.77 -122.41  37.79 -122.41  "
      ]
     },
     "execution_count": 81,
     "metadata": {},
     "output_type": "execute_result"
    }
   ],
   "source": [
    "df1.head()"
   ]
  },
  {
   "cell_type": "code",
   "execution_count": 82,
   "metadata": {},
   "outputs": [
    {
     "data": {
      "text/plain": [
       "Index(['user', 'fare', 'product', 'date', 'distance', 'duration', 'pickup',\n",
       "       'start', 'end'],\n",
       "      dtype='object')"
      ]
     },
     "execution_count": 82,
     "metadata": {},
     "output_type": "execute_result"
    }
   ],
   "source": [
    "df1.columns"
   ]
  },
  {
   "cell_type": "code",
   "execution_count": 83,
   "metadata": {},
   "outputs": [
    {
     "name": "stdout",
     "output_type": "stream",
     "text": [
      "male      37631\n",
      "female    36259\n",
      "Name: user, dtype: int64\n"
     ]
    }
   ],
   "source": [
    "print(df1['user'].value_counts())"
   ]
  },
  {
   "cell_type": "code",
   "execution_count": 84,
   "metadata": {},
   "outputs": [
    {
     "name": "stdout",
     "output_type": "stream",
     "text": [
      "4.74     758\n",
      "4.54     253\n",
      "8.79     200\n",
      "11.12    175\n",
      "8.89     163\n",
      "10.94    163\n",
      "11.05    157\n",
      "11.23    142\n",
      "11.33    140\n",
      "11.66    138\n",
      "5.50     134\n",
      "10.90    134\n",
      "6.52     129\n",
      "11.01    129\n",
      "11.87    126\n",
      "11.77    124\n",
      "6.27     124\n",
      "11.13    122\n",
      "5.79     122\n",
      "8.80     121\n",
      "11.20    121\n",
      "5.81     120\n",
      "9.56     117\n",
      "8.76     117\n",
      "6.26     116\n",
      "6.28     115\n",
      "11.35    115\n",
      "11.06    115\n",
      "9.07     114\n",
      "9.47     114\n",
      "        ... \n",
      "37.16      1\n",
      "26.31      1\n",
      "37.56      1\n",
      "15.60      1\n",
      "39.30      1\n",
      "26.59      1\n",
      "19.16      1\n",
      "26.61      1\n",
      "14.08      1\n",
      "38.36      1\n",
      "39.57      1\n",
      "26.38      1\n",
      "39.47      1\n",
      "15.51      1\n",
      "27.96      1\n",
      "15.94      1\n",
      "28.69      1\n",
      "19.73      1\n",
      "39.53      1\n",
      "16.28      1\n",
      "15.84      1\n",
      "28.84      1\n",
      "13.84      1\n",
      "17.69      1\n",
      "27.59      1\n",
      "14.32      1\n",
      "39.15      1\n",
      "19.53      1\n",
      "18.92      1\n",
      "19.83      1\n",
      "Name: fare, Length: 3098, dtype: int64\n"
     ]
    }
   ],
   "source": [
    "print(df1['fare'].value_counts())"
   ]
  },
  {
   "cell_type": "code",
   "execution_count": 85,
   "metadata": {
    "scrolled": true
   },
   "outputs": [
    {
     "name": "stdout",
     "output_type": "stream",
     "text": [
      "uberxl       14841\n",
      "suv          14841\n",
      "uberx        14841\n",
      "uberblack    14841\n",
      "rideshare    14526\n",
      "Name: product, dtype: int64\n"
     ]
    }
   ],
   "source": [
    "print(df1['product'].value_counts())"
   ]
  },
  {
   "cell_type": "code",
   "execution_count": 86,
   "metadata": {},
   "outputs": [
    {
     "name": "stdout",
     "output_type": "stream",
     "text": [
      "540    15180\n",
      "480    15131\n",
      "600    10226\n",
      "660    10047\n",
      "720     9152\n",
      "420     4978\n",
      "780     3666\n",
      "840     3539\n",
      "900     1936\n",
      "960       35\n",
      "Name: duration, dtype: int64\n"
     ]
    }
   ],
   "source": [
    "print(df1['duration'].value_counts())"
   ]
  },
  {
   "cell_type": "code",
   "execution_count": 87,
   "metadata": {},
   "outputs": [
    {
     "name": "stdout",
     "output_type": "stream",
     "text": [
      "2.00    43316\n",
      "1.84    27292\n",
      "1.98     2879\n",
      "2.04      386\n",
      "2.09       17\n",
      "Name: distance, dtype: int64\n"
     ]
    }
   ],
   "source": [
    "print(df1['distance'].value_counts())"
   ]
  },
  {
   "cell_type": "code",
   "execution_count": 88,
   "metadata": {
    "scrolled": true
   },
   "outputs": [
    {
     "name": "stdout",
     "output_type": "stream",
     "text": [
      "2.0     13935\n",
      "3.0     13299\n",
      "5.0     12152\n",
      "4.0     10640\n",
      "6.0      5421\n",
      "7.0      1728\n",
      "8.0       773\n",
      "9.0       545\n",
      "1.0       541\n",
      "10.0      159\n",
      "12.0       80\n",
      "16.0       76\n",
      "11.0       19\n",
      "13.0        2\n",
      "15.0        1\n",
      "Name: pickup, dtype: int64\n"
     ]
    }
   ],
   "source": [
    "print(df1['pickup'].value_counts())"
   ]
  },
  {
   "cell_type": "code",
   "execution_count": 89,
   "metadata": {},
   "outputs": [
    {
     "name": "stdout",
     "output_type": "stream",
     "text": [
      "37.77 -122.41    73890\n",
      "Name: start, dtype: int64\n",
      "37.79 -122.41    73890\n",
      "Name: end, dtype: int64\n"
     ]
    },
    {
     "data": {
      "text/plain": [
       "(None, None)"
      ]
     },
     "execution_count": 89,
     "metadata": {},
     "output_type": "execute_result"
    }
   ],
   "source": [
    "print(df1['start'].value_counts()), print(df1['end'].value_counts())"
   ]
  },
  {
   "cell_type": "markdown",
   "metadata": {},
   "source": [
    "**The `start` and `end` columns contain only one identical data for all, so they are useless**"
   ]
  },
  {
   "cell_type": "code",
   "execution_count": 90,
   "metadata": {},
   "outputs": [],
   "source": [
    "del df1['start']\n",
    "del df1['end']"
   ]
  },
  {
   "cell_type": "code",
   "execution_count": 91,
   "metadata": {},
   "outputs": [
    {
     "data": {
      "text/html": [
       "<div>\n",
       "<style scoped>\n",
       "    .dataframe tbody tr th:only-of-type {\n",
       "        vertical-align: middle;\n",
       "    }\n",
       "\n",
       "    .dataframe tbody tr th {\n",
       "        vertical-align: top;\n",
       "    }\n",
       "\n",
       "    .dataframe thead th {\n",
       "        text-align: right;\n",
       "    }\n",
       "</style>\n",
       "<table border=\"1\" class=\"dataframe\">\n",
       "  <thead>\n",
       "    <tr style=\"text-align: right;\">\n",
       "      <th></th>\n",
       "      <th>user</th>\n",
       "      <th>fare</th>\n",
       "      <th>product</th>\n",
       "      <th>date</th>\n",
       "      <th>distance</th>\n",
       "      <th>duration</th>\n",
       "      <th>pickup</th>\n",
       "    </tr>\n",
       "  </thead>\n",
       "  <tbody>\n",
       "    <tr>\n",
       "      <th>0</th>\n",
       "      <td>male</td>\n",
       "      <td>9.38</td>\n",
       "      <td>uberx</td>\n",
       "      <td>2018-04-18 15:08:14</td>\n",
       "      <td>1.84</td>\n",
       "      <td>720</td>\n",
       "      <td>NaN</td>\n",
       "    </tr>\n",
       "    <tr>\n",
       "      <th>1</th>\n",
       "      <td>male</td>\n",
       "      <td>12.32</td>\n",
       "      <td>uberxl</td>\n",
       "      <td>2018-04-18 15:08:14</td>\n",
       "      <td>1.84</td>\n",
       "      <td>720</td>\n",
       "      <td>5.0</td>\n",
       "    </tr>\n",
       "    <tr>\n",
       "      <th>2</th>\n",
       "      <td>male</td>\n",
       "      <td>23.86</td>\n",
       "      <td>uberblack</td>\n",
       "      <td>2018-04-18 15:08:14</td>\n",
       "      <td>1.84</td>\n",
       "      <td>720</td>\n",
       "      <td>5.0</td>\n",
       "    </tr>\n",
       "    <tr>\n",
       "      <th>3</th>\n",
       "      <td>male</td>\n",
       "      <td>33.75</td>\n",
       "      <td>suv</td>\n",
       "      <td>2018-04-18 15:08:14</td>\n",
       "      <td>1.84</td>\n",
       "      <td>720</td>\n",
       "      <td>5.0</td>\n",
       "    </tr>\n",
       "    <tr>\n",
       "      <th>4</th>\n",
       "      <td>male</td>\n",
       "      <td>6.33</td>\n",
       "      <td>rideshare</td>\n",
       "      <td>2018-04-18 15:08:14</td>\n",
       "      <td>1.84</td>\n",
       "      <td>720</td>\n",
       "      <td>2.0</td>\n",
       "    </tr>\n",
       "  </tbody>\n",
       "</table>\n",
       "</div>"
      ],
      "text/plain": [
       "   user   fare    product                 date  distance  duration  pickup\n",
       "0  male   9.38      uberx  2018-04-18 15:08:14      1.84       720     NaN\n",
       "1  male  12.32     uberxl  2018-04-18 15:08:14      1.84       720     5.0\n",
       "2  male  23.86  uberblack  2018-04-18 15:08:14      1.84       720     5.0\n",
       "3  male  33.75        suv  2018-04-18 15:08:14      1.84       720     5.0\n",
       "4  male   6.33  rideshare  2018-04-18 15:08:14      1.84       720     2.0"
      ]
     },
     "execution_count": 91,
     "metadata": {},
     "output_type": "execute_result"
    }
   ],
   "source": [
    "# New dataframe clean\n",
    "df1.head()"
   ]
  },
  {
   "cell_type": "markdown",
   "metadata": {},
   "source": [
    "### Proportion of male / female client"
   ]
  },
  {
   "cell_type": "code",
   "execution_count": 92,
   "metadata": {},
   "outputs": [
    {
     "data": {
      "image/png": "[encoded data removed]",
      "text/plain": [
       "<Figure size 432x288 with 1 Axes>"
      ]
     },
     "metadata": {
      "needs_background": "light"
     },
     "output_type": "display_data"
    }
   ],
   "source": [
    "gender = df1.groupby('user')\n",
    "data_gender = gender['user'].count()\n",
    "data_gender.plot.bar()\n",
    "plt.title(\"Proportion of Male / Female\")\n",
    "plt.annotate(str(data_gender[0]) + \" female\", (-0.25, data_gender[0]))\n",
    "plt.annotate(str(data_gender[1]) + \" male\", (0.75, data_gender[1]))\n",
    "plt.ylabel(\"Number of client\")\n",
    "plt.xlabel(\"Client gender\")\n",
    "plt.show()"
   ]
  },
  {
   "cell_type": "markdown",
   "metadata": {},
   "source": [
    "### Proportion of gender according to product"
   ]
  },
  {
   "cell_type": "code",
   "execution_count": 93,
   "metadata": {},
   "outputs": [
    {
     "data": {
      "image/png": "[encoded data removed]",
      "text/plain": [
       "<Figure size 432x288 with 1 Axes>"
      ]
     },
     "metadata": {
      "needs_background": "light"
     },
     "output_type": "display_data"
    }
   ],
   "source": [
    "tmp = df1[['user', 'product']]\n",
    "data = tmp.groupby(['user','product']).size()\n",
    "data.plot.bar()\n",
    "plt.show()"
   ]
  },
  {
   "cell_type": "markdown",
   "metadata": {},
   "source": [
    "### Average fare according to uber product"
   ]
  },
  {
   "cell_type": "code",
   "execution_count": 94,
   "metadata": {
    "scrolled": true
   },
   "outputs": [
    {
     "name": "stdout",
     "output_type": "stream",
     "text": [
      "product\n",
      "rideshare     5.985478\n",
      "suv          32.517371\n",
      "uberblack    22.581474\n",
      "uberx         9.511324\n",
      "uberxl       11.952087\n",
      "Name: fare, dtype: float64\n"
     ]
    },
    {
     "data": {
      "image/png": "[encoded data removed]",
      "text/plain": [
       "<Figure size 432x288 with 1 Axes>"
      ]
     },
     "metadata": {
      "needs_background": "light"
     },
     "output_type": "display_data"
    }
   ],
   "source": [
    "product = df1.groupby('product')\n",
    "data_product = product['fare'].mean()\n",
    "print(data_product)\n",
    "data_product.plot.bar()\n",
    "plt.title(\"Average fare according to product\")\n",
    "plt.ylabel(\"Average fare\")\n",
    "plt.xlabel(\"Uber product\")\n",
    "plt.show()"
   ]
  },
  {
   "cell_type": "markdown",
   "metadata": {},
   "source": [
    "### Correlation between fare, distance and duration"
   ]
  },
  {
   "cell_type": "code",
   "execution_count": 95,
   "metadata": {},
   "outputs": [
    {
     "data": {
      "image/png": "[encoded data removed]",
      "text/plain": [
       "<Figure size 720x720 with 9 Axes>"
      ]
     },
     "metadata": {
      "needs_background": "light"
     },
     "output_type": "display_data"
    }
   ],
   "source": [
    "data = df1[['fare', 'distance', 'duration']]\n",
    "pd.plotting.scatter_matrix(data, figsize=(10, 10), diagonal='kde')\n",
    "plt.show()"
   ]
  },
  {
   "cell_type": "code",
   "execution_count": 96,
   "metadata": {},
   "outputs": [
    {
     "data": {
      "image/png": "[encoded data removed]",
      "text/plain": [
       "<Figure size 720x720 with 4 Axes>"
      ]
     },
     "metadata": {
      "needs_background": "light"
     },
     "output_type": "display_data"
    }
   ],
   "source": [
    "data = df1.loc[df1['product'] == 'uberx']\n",
    "data = data[['distance', 'duration']]\n",
    "pd.plotting.scatter_matrix(data, figsize=(10, 10), diagonal='kde')\n",
    "plt.show()"
   ]
  },
  {
   "cell_type": "markdown",
   "metadata": {},
   "source": [
    "### Does female uses uber for longer distance than male?"
   ]
  },
  {
   "cell_type": "code",
   "execution_count": 97,
   "metadata": {
    "scrolled": true
   },
   "outputs": [
    {
     "data": {
      "image/png": "[encoded data removed]",
      "text/plain": [
       "<Figure size 432x288 with 1 Axes>"
      ]
     },
     "metadata": {
      "needs_background": "light"
     },
     "output_type": "display_data"
    }
   ],
   "source": [
    "data = df1[['user', 'distance']]\n",
    "data_gb = data.groupby('user')\n",
    "data_dst = data_gb['distance'].mean()\n",
    "data_dst.plot.bar()\n",
    "plt.show()"
   ]
  },
  {
   "cell_type": "markdown",
   "metadata": {},
   "source": [
    "### Does exit a correlation between fare and time?"
   ]
  },
  {
   "cell_type": "code",
   "execution_count": 98,
   "metadata": {},
   "outputs": [
    {
     "data": {
      "image/png": "[encoded data removed]",
      "text/plain": [
       "<Figure size 432x288 with 1 Axes>"
      ]
     },
     "metadata": {
      "needs_background": "light"
     },
     "output_type": "display_data"
    }
   ],
   "source": [
    "data = df1[['fare', 'date', 'product']]\n",
    "\n",
    "def date_to_clock(date):\n",
    "    date = date.split(' ')[1].split(':')\n",
    "    second = int(date[0]) * 3600 + int(date[1]) * 60 + int(date[2])\n",
    "    return second\n",
    "\n",
    "def color_product(product):\n",
    "    color_dict = {'rideshare':'blue', 'suv':'orange', 'uberblack':'green', 'uberx':'red', 'uberxl':'purple'}\n",
    "    return color_dict[product]\n",
    "\n",
    "plt.scatter(data.date.apply(date_to_clock), data.fare, s=10, c=data['product'].apply(color_product))\n",
    "plt.xlabel('Time in second')\n",
    "plt.ylabel('Fare')\n",
    "plt.show()"
   ]
  },
  {
   "cell_type": "markdown",
   "metadata": {},
   "source": [
    "The fare seem to be correlated with the date. For example, the price is highest at night and in the afternoon."
   ]
  },
  {
   "cell_type": "markdown",
   "metadata": {},
   "source": [
    "#### Let's do a logistic regression on SUV product, with fare and time\n",
    "\n",
    "We only want to work on SUV product."
   ]
  },
  {
   "cell_type": "code",
   "execution_count": 99,
   "metadata": {
    "scrolled": true
   },
   "outputs": [
    {
     "data": {
      "image/png": "[encoded data removed]",
      "text/plain": [
       "<Figure size 432x288 with 1 Axes>"
      ]
     },
     "metadata": {
      "needs_background": "light"
     },
     "output_type": "display_data"
    }
   ],
   "source": [
    "data = df1[['fare', 'date', 'product']]\n",
    "data = data.loc[data['product'] == 'suv']\n",
    "\n",
    "plt.scatter(data.date.apply(date_to_clock), data.fare, s=10, c=data['product'].apply(color_product))\n",
    "plt.xlabel('Time in second')\n",
    "plt.ylabel('Fare')\n",
    "plt.show()"
   ]
  },
  {
   "cell_type": "code",
   "execution_count": 100,
   "metadata": {},
   "outputs": [
    {
     "name": "stdout",
     "output_type": "stream",
     "text": [
      "[[54494]\n",
      " [54494]\n",
      " [54494]\n",
      " ...\n",
      " [49955]\n",
      " [53573]\n",
      " [57187]]\n",
      "[33.75 33.88 35.11 ... 30.84 33.03 36.42]\n"
     ]
    },
    {
     "data": {
      "image/png": "[encoded data removed]",
      "text/plain": [
       "<Figure size 432x288 with 1 Axes>"
      ]
     },
     "metadata": {
      "needs_background": "light"
     },
     "output_type": "display_data"
    }
   ],
   "source": [
    "X = data.date.apply(date_to_clock).values.reshape(-1, 1)\n",
    "Y = data.fare.values\n",
    "\n",
    "lab_enc = preprocessing.LabelEncoder()\n",
    "Y_encoded = lab_enc.fit_transform(Y)\n",
    "\n",
    "print(X)\n",
    "print(Y)\n",
    "\n",
    "logr = LogisticRegression()\n",
    "logr.fit(X, Y_encoded)\n",
    "\n",
    "plt.scatter(X, Y_encoded, c='orange')\n",
    "\n",
    "test = np.arange(0, 80000, 100).reshape(-1, 1)\n",
    "plt.plot(test, logr.predict(test))\n",
    "plt.show()"
   ]
  }
 ],
 "metadata": {
  "kernelspec": {
   "display_name": "Python 3",
   "language": "python",
   "name": "python3"
  },
  "language_info": {
   "codemirror_mode": {
    "name": "ipython",
    "version": 3
   },
   "file_extension": ".py",
   "mimetype": "text/x-python",
   "name": "python",
   "nbconvert_exporter": "python",
   "pygments_lexer": "ipython3",
   "version": "3.7.2"
  }
 },
 "nbformat": 4,
 "nbformat_minor": 2
}
