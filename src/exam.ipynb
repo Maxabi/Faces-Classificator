{
 "cells": [
  {
   "cell_type": "markdown",
   "metadata": {},
   "source": [
    "# Test: Data analyses 2\n",
    "\n",
    "**Author:** Maxime ABITBOL 21305862     \n",
    "**Teacher:** Franck LIN - ADD2"
   ]
  },
  {
   "cell_type": "markdown",
   "metadata": {},
   "source": [
    "## 1. Exercise 1 (60%)"
   ]
  },
  {
   "cell_type": "markdown",
   "metadata": {},
   "source": [
    "### Import"
   ]
  },
  {
   "cell_type": "code",
   "execution_count": 2,
   "metadata": {},
   "outputs": [],
   "source": [
    "import numpy as np\n",
    "import pandas as pd\n",
    "import matplotlib.pyplot as plt\n",
    "\n",
    "from sklearn.decomposition import PCA"
   ]
  },
  {
   "cell_type": "markdown",
   "metadata": {},
   "source": [
    "### Settings"
   ]
  },
  {
   "cell_type": "code",
   "execution_count": 3,
   "metadata": {},
   "outputs": [
    {
     "name": "stdout",
     "output_type": "stream",
     "text": [
      "/home/maxime/Documents/Study/M1/ADD2/Exam/Data-Analyses-ADD2/src\n",
      "Faces_Test_Inputs.csv  Faces_Train_Inputs.csv\n",
      "Faces_Test_Labels.csv  Faces_Train_Labels.csv\n"
     ]
    }
   ],
   "source": [
    "!pwd\n",
    "!ls ../data/"
   ]
  },
  {
   "cell_type": "code",
   "execution_count": 4,
   "metadata": {},
   "outputs": [],
   "source": [
    "PATH_DATA = \"../data/\"\n",
    "PATH_TRAIN_X = PATH_DATA + \"Faces_Train_Inputs.csv\"\n",
    "PATH_TRAIN_Y = PATH_DATA + \"Faces_Train_Labels.csv\"\n",
    "PATH_TEST_X = PATH_DATA + \"Faces_Test_Inputs.csv\"\n",
    "PATH_TEST_Y = PATH_DATA + \"Faces_Test_Labels.csv\""
   ]
  },
  {
   "cell_type": "markdown",
   "metadata": {},
   "source": [
    "### Load Data"
   ]
  },
  {
   "cell_type": "code",
   "execution_count": 5,
   "metadata": {},
   "outputs": [],
   "source": [
    "df_train_x = pd.read_csv(PATH_TRAIN_X, sep=\",\", header=None)\n",
    "df_train_y = pd.read_csv(PATH_TRAIN_Y, sep=\",\", header=None)\n",
    "df_test_x = pd.read_csv(PATH_TEST_X, sep=\",\", header=None)\n",
    "df_test_y = pd.read_csv(PATH_TEST_Y, sep=\",\", header=None)"
   ]
  },
  {
   "cell_type": "markdown",
   "metadata": {},
   "source": [
    "### 1.1 Describe data & Face mean"
   ]
  },
  {
   "cell_type": "markdown",
   "metadata": {},
   "source": [
    "Train y: 320 images, 40 people, 8 image of same people, dataset corresponding to the label"
   ]
  },
  {
   "cell_type": "code",
   "execution_count": 6,
   "metadata": {},
   "outputs": [
    {
     "data": {
      "text/html": [
       "<div>\n",
       "<style scoped>\n",
       "    .dataframe tbody tr th:only-of-type {\n",
       "        vertical-align: middle;\n",
       "    }\n",
       "\n",
       "    .dataframe tbody tr th {\n",
       "        vertical-align: top;\n",
       "    }\n",
       "\n",
       "    .dataframe thead th {\n",
       "        text-align: right;\n",
       "    }\n",
       "</style>\n",
       "<table border=\"1\" class=\"dataframe\">\n",
       "  <thead>\n",
       "    <tr style=\"text-align: right;\">\n",
       "      <th></th>\n",
       "      <th>0</th>\n",
       "      <th>1</th>\n",
       "      <th>2</th>\n",
       "      <th>3</th>\n",
       "      <th>4</th>\n",
       "      <th>5</th>\n",
       "      <th>6</th>\n",
       "      <th>7</th>\n",
       "      <th>8</th>\n",
       "      <th>9</th>\n",
       "      <th>...</th>\n",
       "      <th>310</th>\n",
       "      <th>311</th>\n",
       "      <th>312</th>\n",
       "      <th>313</th>\n",
       "      <th>314</th>\n",
       "      <th>315</th>\n",
       "      <th>316</th>\n",
       "      <th>317</th>\n",
       "      <th>318</th>\n",
       "      <th>319</th>\n",
       "    </tr>\n",
       "  </thead>\n",
       "  <tbody>\n",
       "    <tr>\n",
       "      <th>0</th>\n",
       "      <td>1</td>\n",
       "      <td>1</td>\n",
       "      <td>1</td>\n",
       "      <td>1</td>\n",
       "      <td>1</td>\n",
       "      <td>1</td>\n",
       "      <td>1</td>\n",
       "      <td>1</td>\n",
       "      <td>2</td>\n",
       "      <td>2</td>\n",
       "      <td>...</td>\n",
       "      <td>39</td>\n",
       "      <td>39</td>\n",
       "      <td>40</td>\n",
       "      <td>40</td>\n",
       "      <td>40</td>\n",
       "      <td>40</td>\n",
       "      <td>40</td>\n",
       "      <td>40</td>\n",
       "      <td>40</td>\n",
       "      <td>40</td>\n",
       "    </tr>\n",
       "  </tbody>\n",
       "</table>\n",
       "<p>1 rows × 320 columns</p>\n",
       "</div>"
      ],
      "text/plain": [
       "   0    1    2    3    4    5    6    7    8    9   ...   310  311  312  313  \\\n",
       "0    1    1    1    1    1    1    1    1    2    2 ...    39   39   40   40   \n",
       "\n",
       "   314  315  316  317  318  319  \n",
       "0   40   40   40   40   40   40  \n",
       "\n",
       "[1 rows x 320 columns]"
      ]
     },
     "execution_count": 6,
     "metadata": {},
     "output_type": "execute_result"
    }
   ],
   "source": [
    "df_train_y.head()"
   ]
  },
  {
   "cell_type": "markdown",
   "metadata": {},
   "source": [
    "Test y: 80 images, 40 people, 2 image of same people"
   ]
  },
  {
   "cell_type": "code",
   "execution_count": 6,
   "metadata": {},
   "outputs": [
    {
     "data": {
      "text/html": [
       "<div>\n",
       "<style scoped>\n",
       "    .dataframe tbody tr th:only-of-type {\n",
       "        vertical-align: middle;\n",
       "    }\n",
       "\n",
       "    .dataframe tbody tr th {\n",
       "        vertical-align: top;\n",
       "    }\n",
       "\n",
       "    .dataframe thead th {\n",
       "        text-align: right;\n",
       "    }\n",
       "</style>\n",
       "<table border=\"1\" class=\"dataframe\">\n",
       "  <thead>\n",
       "    <tr style=\"text-align: right;\">\n",
       "      <th></th>\n",
       "      <th>0</th>\n",
       "      <th>1</th>\n",
       "      <th>2</th>\n",
       "      <th>3</th>\n",
       "      <th>4</th>\n",
       "      <th>5</th>\n",
       "      <th>6</th>\n",
       "      <th>7</th>\n",
       "      <th>8</th>\n",
       "      <th>9</th>\n",
       "      <th>...</th>\n",
       "      <th>70</th>\n",
       "      <th>71</th>\n",
       "      <th>72</th>\n",
       "      <th>73</th>\n",
       "      <th>74</th>\n",
       "      <th>75</th>\n",
       "      <th>76</th>\n",
       "      <th>77</th>\n",
       "      <th>78</th>\n",
       "      <th>79</th>\n",
       "    </tr>\n",
       "  </thead>\n",
       "  <tbody>\n",
       "    <tr>\n",
       "      <th>0</th>\n",
       "      <td>1</td>\n",
       "      <td>1</td>\n",
       "      <td>2</td>\n",
       "      <td>2</td>\n",
       "      <td>3</td>\n",
       "      <td>3</td>\n",
       "      <td>4</td>\n",
       "      <td>4</td>\n",
       "      <td>5</td>\n",
       "      <td>5</td>\n",
       "      <td>...</td>\n",
       "      <td>36</td>\n",
       "      <td>36</td>\n",
       "      <td>37</td>\n",
       "      <td>37</td>\n",
       "      <td>38</td>\n",
       "      <td>38</td>\n",
       "      <td>39</td>\n",
       "      <td>39</td>\n",
       "      <td>40</td>\n",
       "      <td>40</td>\n",
       "    </tr>\n",
       "  </tbody>\n",
       "</table>\n",
       "<p>1 rows × 80 columns</p>\n",
       "</div>"
      ],
      "text/plain": [
       "   0   1   2   3   4   5   6   7   8   9  ...  70  71  72  73  74  75  76  77  \\\n",
       "0   1   1   2   2   3   3   4   4   5   5 ...  36  36  37  37  38  38  39  39   \n",
       "\n",
       "   78  79  \n",
       "0  40  40  \n",
       "\n",
       "[1 rows x 80 columns]"
      ]
     },
     "execution_count": 6,
     "metadata": {},
     "output_type": "execute_result"
    }
   ],
   "source": [
    "df_test_y.head()"
   ]
  },
  {
   "cell_type": "markdown",
   "metadata": {},
   "source": [
    "Train x: 10305 pixels per images"
   ]
  },
  {
   "cell_type": "code",
   "execution_count": 7,
   "metadata": {},
   "outputs": [
    {
     "data": {
      "text/html": [
       "<div>\n",
       "<style scoped>\n",
       "    .dataframe tbody tr th:only-of-type {\n",
       "        vertical-align: middle;\n",
       "    }\n",
       "\n",
       "    .dataframe tbody tr th {\n",
       "        vertical-align: top;\n",
       "    }\n",
       "\n",
       "    .dataframe thead th {\n",
       "        text-align: right;\n",
       "    }\n",
       "</style>\n",
       "<table border=\"1\" class=\"dataframe\">\n",
       "  <thead>\n",
       "    <tr style=\"text-align: right;\">\n",
       "      <th></th>\n",
       "      <th>0</th>\n",
       "      <th>1</th>\n",
       "      <th>2</th>\n",
       "      <th>3</th>\n",
       "      <th>4</th>\n",
       "      <th>5</th>\n",
       "      <th>6</th>\n",
       "      <th>7</th>\n",
       "      <th>8</th>\n",
       "      <th>9</th>\n",
       "      <th>...</th>\n",
       "      <th>10294</th>\n",
       "      <th>10295</th>\n",
       "      <th>10296</th>\n",
       "      <th>10297</th>\n",
       "      <th>10298</th>\n",
       "      <th>10299</th>\n",
       "      <th>10300</th>\n",
       "      <th>10301</th>\n",
       "      <th>10302</th>\n",
       "      <th>10303</th>\n",
       "    </tr>\n",
       "  </thead>\n",
       "  <tbody>\n",
       "    <tr>\n",
       "      <th>0</th>\n",
       "      <td>0.18824</td>\n",
       "      <td>0.17647</td>\n",
       "      <td>0.17647</td>\n",
       "      <td>0.19216</td>\n",
       "      <td>0.18039</td>\n",
       "      <td>0.18431</td>\n",
       "      <td>0.17647</td>\n",
       "      <td>0.18431</td>\n",
       "      <td>0.18824</td>\n",
       "      <td>0.207840</td>\n",
       "      <td>...</td>\n",
       "      <td>0.18431</td>\n",
       "      <td>0.17255</td>\n",
       "      <td>0.18431</td>\n",
       "      <td>0.20392</td>\n",
       "      <td>0.18824</td>\n",
       "      <td>0.192160</td>\n",
       "      <td>0.176470</td>\n",
       "      <td>0.180390</td>\n",
       "      <td>0.18431</td>\n",
       "      <td>0.180390</td>\n",
       "    </tr>\n",
       "    <tr>\n",
       "      <th>1</th>\n",
       "      <td>0.23529</td>\n",
       "      <td>0.22745</td>\n",
       "      <td>0.26667</td>\n",
       "      <td>0.30980</td>\n",
       "      <td>0.19216</td>\n",
       "      <td>0.16863</td>\n",
       "      <td>0.20392</td>\n",
       "      <td>0.20392</td>\n",
       "      <td>0.21961</td>\n",
       "      <td>0.282350</td>\n",
       "      <td>...</td>\n",
       "      <td>0.14510</td>\n",
       "      <td>0.15686</td>\n",
       "      <td>0.14118</td>\n",
       "      <td>0.12549</td>\n",
       "      <td>0.12941</td>\n",
       "      <td>0.145100</td>\n",
       "      <td>0.141180</td>\n",
       "      <td>0.129410</td>\n",
       "      <td>0.12157</td>\n",
       "      <td>0.133330</td>\n",
       "    </tr>\n",
       "    <tr>\n",
       "      <th>2</th>\n",
       "      <td>0.15294</td>\n",
       "      <td>0.17255</td>\n",
       "      <td>0.23137</td>\n",
       "      <td>0.21176</td>\n",
       "      <td>0.24314</td>\n",
       "      <td>0.27059</td>\n",
       "      <td>0.29020</td>\n",
       "      <td>0.23922</td>\n",
       "      <td>0.17255</td>\n",
       "      <td>0.184310</td>\n",
       "      <td>...</td>\n",
       "      <td>0.15294</td>\n",
       "      <td>0.14510</td>\n",
       "      <td>0.13333</td>\n",
       "      <td>0.12157</td>\n",
       "      <td>0.12549</td>\n",
       "      <td>0.133330</td>\n",
       "      <td>0.109800</td>\n",
       "      <td>0.109800</td>\n",
       "      <td>0.10588</td>\n",
       "      <td>0.113730</td>\n",
       "    </tr>\n",
       "    <tr>\n",
       "      <th>3</th>\n",
       "      <td>0.24706</td>\n",
       "      <td>0.21961</td>\n",
       "      <td>0.20392</td>\n",
       "      <td>0.15686</td>\n",
       "      <td>0.16863</td>\n",
       "      <td>0.16863</td>\n",
       "      <td>0.11373</td>\n",
       "      <td>0.11765</td>\n",
       "      <td>0.11765</td>\n",
       "      <td>0.094118</td>\n",
       "      <td>...</td>\n",
       "      <td>0.16078</td>\n",
       "      <td>0.16078</td>\n",
       "      <td>0.13725</td>\n",
       "      <td>0.12549</td>\n",
       "      <td>0.10588</td>\n",
       "      <td>0.094118</td>\n",
       "      <td>0.090196</td>\n",
       "      <td>0.098039</td>\n",
       "      <td>0.10980</td>\n",
       "      <td>0.094118</td>\n",
       "    </tr>\n",
       "    <tr>\n",
       "      <th>4</th>\n",
       "      <td>0.25098</td>\n",
       "      <td>0.23529</td>\n",
       "      <td>0.24706</td>\n",
       "      <td>0.20784</td>\n",
       "      <td>0.23529</td>\n",
       "      <td>0.16078</td>\n",
       "      <td>0.11765</td>\n",
       "      <td>0.10980</td>\n",
       "      <td>0.14902</td>\n",
       "      <td>0.215690</td>\n",
       "      <td>...</td>\n",
       "      <td>0.15686</td>\n",
       "      <td>0.17255</td>\n",
       "      <td>0.15686</td>\n",
       "      <td>0.16863</td>\n",
       "      <td>0.16471</td>\n",
       "      <td>0.160780</td>\n",
       "      <td>0.160780</td>\n",
       "      <td>0.137250</td>\n",
       "      <td>0.16471</td>\n",
       "      <td>0.152940</td>\n",
       "    </tr>\n",
       "  </tbody>\n",
       "</table>\n",
       "<p>5 rows × 10304 columns</p>\n",
       "</div>"
      ],
      "text/plain": [
       "     0        1        2        3        4        5        6        7      \\\n",
       "0  0.18824  0.17647  0.17647  0.19216  0.18039  0.18431  0.17647  0.18431   \n",
       "1  0.23529  0.22745  0.26667  0.30980  0.19216  0.16863  0.20392  0.20392   \n",
       "2  0.15294  0.17255  0.23137  0.21176  0.24314  0.27059  0.29020  0.23922   \n",
       "3  0.24706  0.21961  0.20392  0.15686  0.16863  0.16863  0.11373  0.11765   \n",
       "4  0.25098  0.23529  0.24706  0.20784  0.23529  0.16078  0.11765  0.10980   \n",
       "\n",
       "     8         9        ...       10294    10295    10296    10297    10298  \\\n",
       "0  0.18824  0.207840    ...     0.18431  0.17255  0.18431  0.20392  0.18824   \n",
       "1  0.21961  0.282350    ...     0.14510  0.15686  0.14118  0.12549  0.12941   \n",
       "2  0.17255  0.184310    ...     0.15294  0.14510  0.13333  0.12157  0.12549   \n",
       "3  0.11765  0.094118    ...     0.16078  0.16078  0.13725  0.12549  0.10588   \n",
       "4  0.14902  0.215690    ...     0.15686  0.17255  0.15686  0.16863  0.16471   \n",
       "\n",
       "      10299     10300     10301    10302     10303  \n",
       "0  0.192160  0.176470  0.180390  0.18431  0.180390  \n",
       "1  0.145100  0.141180  0.129410  0.12157  0.133330  \n",
       "2  0.133330  0.109800  0.109800  0.10588  0.113730  \n",
       "3  0.094118  0.090196  0.098039  0.10980  0.094118  \n",
       "4  0.160780  0.160780  0.137250  0.16471  0.152940  \n",
       "\n",
       "[5 rows x 10304 columns]"
      ]
     },
     "execution_count": 7,
     "metadata": {},
     "output_type": "execute_result"
    }
   ],
   "source": [
    "df_train_x.head()"
   ]
  },
  {
   "cell_type": "code",
   "execution_count": 8,
   "metadata": {},
   "outputs": [
    {
     "name": "stdout",
     "output_type": "stream",
     "text": [
      "<class 'pandas.core.frame.DataFrame'>\n",
      "RangeIndex: 320 entries, 0 to 319\n",
      "Columns: 10304 entries, 0 to 10303\n",
      "dtypes: float64(10304)\n",
      "memory usage: 25.2 MB\n"
     ]
    }
   ],
   "source": [
    "df_train_x.info()"
   ]
  },
  {
   "cell_type": "markdown",
   "metadata": {},
   "source": [
    "Test x: 10305 pixels per images"
   ]
  },
  {
   "cell_type": "code",
   "execution_count": 9,
   "metadata": {},
   "outputs": [
    {
     "data": {
      "text/html": [
       "<div>\n",
       "<style scoped>\n",
       "    .dataframe tbody tr th:only-of-type {\n",
       "        vertical-align: middle;\n",
       "    }\n",
       "\n",
       "    .dataframe tbody tr th {\n",
       "        vertical-align: top;\n",
       "    }\n",
       "\n",
       "    .dataframe thead th {\n",
       "        text-align: right;\n",
       "    }\n",
       "</style>\n",
       "<table border=\"1\" class=\"dataframe\">\n",
       "  <thead>\n",
       "    <tr style=\"text-align: right;\">\n",
       "      <th></th>\n",
       "      <th>0</th>\n",
       "      <th>1</th>\n",
       "      <th>2</th>\n",
       "      <th>3</th>\n",
       "      <th>4</th>\n",
       "      <th>5</th>\n",
       "      <th>6</th>\n",
       "      <th>7</th>\n",
       "      <th>8</th>\n",
       "      <th>9</th>\n",
       "      <th>...</th>\n",
       "      <th>10294</th>\n",
       "      <th>10295</th>\n",
       "      <th>10296</th>\n",
       "      <th>10297</th>\n",
       "      <th>10298</th>\n",
       "      <th>10299</th>\n",
       "      <th>10300</th>\n",
       "      <th>10301</th>\n",
       "      <th>10302</th>\n",
       "      <th>10303</th>\n",
       "    </tr>\n",
       "  </thead>\n",
       "  <tbody>\n",
       "    <tr>\n",
       "      <th>0</th>\n",
       "      <td>0.164706</td>\n",
       "      <td>0.160784</td>\n",
       "      <td>0.211765</td>\n",
       "      <td>0.188235</td>\n",
       "      <td>0.168627</td>\n",
       "      <td>0.156863</td>\n",
       "      <td>0.180392</td>\n",
       "      <td>0.176471</td>\n",
       "      <td>0.160784</td>\n",
       "      <td>0.160784</td>\n",
       "      <td>...</td>\n",
       "      <td>0.168627</td>\n",
       "      <td>0.156863</td>\n",
       "      <td>0.160784</td>\n",
       "      <td>0.164706</td>\n",
       "      <td>0.180392</td>\n",
       "      <td>0.164706</td>\n",
       "      <td>0.168627</td>\n",
       "      <td>0.156863</td>\n",
       "      <td>0.152941</td>\n",
       "      <td>0.160784</td>\n",
       "    </tr>\n",
       "    <tr>\n",
       "      <th>1</th>\n",
       "      <td>0.133333</td>\n",
       "      <td>0.137255</td>\n",
       "      <td>0.133333</td>\n",
       "      <td>0.133333</td>\n",
       "      <td>0.149020</td>\n",
       "      <td>0.141176</td>\n",
       "      <td>0.117647</td>\n",
       "      <td>0.105882</td>\n",
       "      <td>0.094118</td>\n",
       "      <td>0.105882</td>\n",
       "      <td>...</td>\n",
       "      <td>0.184314</td>\n",
       "      <td>0.172549</td>\n",
       "      <td>0.184314</td>\n",
       "      <td>0.168627</td>\n",
       "      <td>0.164706</td>\n",
       "      <td>0.149020</td>\n",
       "      <td>0.164706</td>\n",
       "      <td>0.160784</td>\n",
       "      <td>0.152941</td>\n",
       "      <td>0.129412</td>\n",
       "    </tr>\n",
       "    <tr>\n",
       "      <th>2</th>\n",
       "      <td>0.168627</td>\n",
       "      <td>0.149020</td>\n",
       "      <td>0.152941</td>\n",
       "      <td>0.145098</td>\n",
       "      <td>0.156863</td>\n",
       "      <td>0.160784</td>\n",
       "      <td>0.164706</td>\n",
       "      <td>0.168627</td>\n",
       "      <td>0.176471</td>\n",
       "      <td>0.152941</td>\n",
       "      <td>...</td>\n",
       "      <td>0.125490</td>\n",
       "      <td>0.125490</td>\n",
       "      <td>0.117647</td>\n",
       "      <td>0.109804</td>\n",
       "      <td>0.105882</td>\n",
       "      <td>0.098039</td>\n",
       "      <td>0.105882</td>\n",
       "      <td>0.109804</td>\n",
       "      <td>0.121569</td>\n",
       "      <td>0.552941</td>\n",
       "    </tr>\n",
       "    <tr>\n",
       "      <th>3</th>\n",
       "      <td>0.145098</td>\n",
       "      <td>0.121569</td>\n",
       "      <td>0.133333</td>\n",
       "      <td>0.149020</td>\n",
       "      <td>0.160784</td>\n",
       "      <td>0.156863</td>\n",
       "      <td>0.149020</td>\n",
       "      <td>0.164706</td>\n",
       "      <td>0.156863</td>\n",
       "      <td>0.152941</td>\n",
       "      <td>...</td>\n",
       "      <td>0.117647</td>\n",
       "      <td>0.121569</td>\n",
       "      <td>0.105882</td>\n",
       "      <td>0.098039</td>\n",
       "      <td>0.101961</td>\n",
       "      <td>0.090196</td>\n",
       "      <td>0.101961</td>\n",
       "      <td>0.105882</td>\n",
       "      <td>0.262745</td>\n",
       "      <td>0.521569</td>\n",
       "    </tr>\n",
       "    <tr>\n",
       "      <th>4</th>\n",
       "      <td>0.407843</td>\n",
       "      <td>0.407843</td>\n",
       "      <td>0.415686</td>\n",
       "      <td>0.419608</td>\n",
       "      <td>0.419608</td>\n",
       "      <td>0.423529</td>\n",
       "      <td>0.396078</td>\n",
       "      <td>0.419608</td>\n",
       "      <td>0.415686</td>\n",
       "      <td>0.407843</td>\n",
       "      <td>...</td>\n",
       "      <td>0.215686</td>\n",
       "      <td>0.227451</td>\n",
       "      <td>0.207843</td>\n",
       "      <td>0.215686</td>\n",
       "      <td>0.239216</td>\n",
       "      <td>0.243137</td>\n",
       "      <td>0.250980</td>\n",
       "      <td>0.247059</td>\n",
       "      <td>0.235294</td>\n",
       "      <td>0.219608</td>\n",
       "    </tr>\n",
       "  </tbody>\n",
       "</table>\n",
       "<p>5 rows × 10304 columns</p>\n",
       "</div>"
      ],
      "text/plain": [
       "      0         1         2         3         4         5         6      \\\n",
       "0  0.164706  0.160784  0.211765  0.188235  0.168627  0.156863  0.180392   \n",
       "1  0.133333  0.137255  0.133333  0.133333  0.149020  0.141176  0.117647   \n",
       "2  0.168627  0.149020  0.152941  0.145098  0.156863  0.160784  0.164706   \n",
       "3  0.145098  0.121569  0.133333  0.149020  0.160784  0.156863  0.149020   \n",
       "4  0.407843  0.407843  0.415686  0.419608  0.419608  0.423529  0.396078   \n",
       "\n",
       "      7         8         9        ...        10294     10295     10296  \\\n",
       "0  0.176471  0.160784  0.160784    ...     0.168627  0.156863  0.160784   \n",
       "1  0.105882  0.094118  0.105882    ...     0.184314  0.172549  0.184314   \n",
       "2  0.168627  0.176471  0.152941    ...     0.125490  0.125490  0.117647   \n",
       "3  0.164706  0.156863  0.152941    ...     0.117647  0.121569  0.105882   \n",
       "4  0.419608  0.415686  0.407843    ...     0.215686  0.227451  0.207843   \n",
       "\n",
       "      10297     10298     10299     10300     10301     10302     10303  \n",
       "0  0.164706  0.180392  0.164706  0.168627  0.156863  0.152941  0.160784  \n",
       "1  0.168627  0.164706  0.149020  0.164706  0.160784  0.152941  0.129412  \n",
       "2  0.109804  0.105882  0.098039  0.105882  0.109804  0.121569  0.552941  \n",
       "3  0.098039  0.101961  0.090196  0.101961  0.105882  0.262745  0.521569  \n",
       "4  0.215686  0.239216  0.243137  0.250980  0.247059  0.235294  0.219608  \n",
       "\n",
       "[5 rows x 10304 columns]"
      ]
     },
     "execution_count": 9,
     "metadata": {},
     "output_type": "execute_result"
    }
   ],
   "source": [
    "df_test_x.head()"
   ]
  },
  {
   "cell_type": "code",
   "execution_count": 10,
   "metadata": {},
   "outputs": [
    {
     "name": "stdout",
     "output_type": "stream",
     "text": [
      "<class 'pandas.core.frame.DataFrame'>\n",
      "RangeIndex: 80 entries, 0 to 79\n",
      "Columns: 10304 entries, 0 to 10303\n",
      "dtypes: float64(10304)\n",
      "memory usage: 6.3 MB\n"
     ]
    }
   ],
   "source": [
    "df_test_x.info()"
   ]
  },
  {
   "cell_type": "markdown",
   "metadata": {},
   "source": [
    "### Face mean (from train set)"
   ]
  },
  {
   "cell_type": "code",
   "execution_count": 7,
   "metadata": {
    "scrolled": true
   },
   "outputs": [
    {
     "data": {
      "text/plain": [
       "<matplotlib.image.AxesImage at 0x7f4fd8fd80b8>"
      ]
     },
     "execution_count": 7,
     "metadata": {},
     "output_type": "execute_result"
    },
    {
     "data": {
      "image/png": "[encoded data removed]",
      "text/plain": [
       "<Figure size 432x288 with 1 Axes>"
      ]
     },
     "metadata": {
      "needs_background": "light"
     },
     "output_type": "display_data"
    }
   ],
   "source": [
    "face_mean = np.mean(df_train_x)\n",
    "matr_face_mean = np.reshape(face_mean.values, (92,112))\n",
    "plt.imshow(matr_face_mean)"
   ]
  },
  {
   "cell_type": "code",
   "execution_count": 8,
   "metadata": {},
   "outputs": [
    {
     "data": {
      "text/plain": [
       "<matplotlib.image.AxesImage at 0x7f4fd8ee32b0>"
      ]
     },
     "execution_count": 8,
     "metadata": {},
     "output_type": "execute_result"
    },
    {
     "data": {
      "image/png": "[encoded data removed]",
      "text/plain": [
       "<Figure size 432x288 with 1 Axes>"
      ]
     },
     "metadata": {
      "needs_background": "light"
     },
     "output_type": "display_data"
    }
   ],
   "source": [
    "# to put the image in the right direction\n",
    "plt.imshow(matr_face_mean.transpose())"
   ]
  },
  {
   "cell_type": "markdown",
   "metadata": {},
   "source": [
    "### 1.2 PCA Reduction"
   ]
  },
  {
   "cell_type": "code",
   "execution_count": 9,
   "metadata": {},
   "outputs": [],
   "source": [
    "def my_PCA(k, X=df_train_x):\n",
    "    pca = PCA(n_components=k)\n",
    "    X_reduced = pca.fit_transform(X)\n",
    "    return X_reduced"
   ]
  },
  {
   "cell_type": "markdown",
   "metadata": {},
   "source": [
    "Reduction with k=5"
   ]
  },
  {
   "cell_type": "code",
   "execution_count": 10,
   "metadata": {},
   "outputs": [
    {
     "data": {
      "text/plain": [
       "(320, 5)"
      ]
     },
     "execution_count": 10,
     "metadata": {},
     "output_type": "execute_result"
    }
   ],
   "source": [
    "X_reduced5 = my_PCA(k=5)\n",
    "X_reduced5.shape"
   ]
  },
  {
   "cell_type": "markdown",
   "metadata": {},
   "source": [
    "Reduction with k=10"
   ]
  },
  {
   "cell_type": "code",
   "execution_count": 11,
   "metadata": {},
   "outputs": [
    {
     "data": {
      "text/plain": [
       "(320, 10)"
      ]
     },
     "execution_count": 11,
     "metadata": {},
     "output_type": "execute_result"
    }
   ],
   "source": [
    "X_reduced10 = my_PCA(k=10)\n",
    "X_reduced10.shape"
   ]
  },
  {
   "cell_type": "markdown",
   "metadata": {},
   "source": [
    "Reduction with k=50"
   ]
  },
  {
   "cell_type": "code",
   "execution_count": 12,
   "metadata": {},
   "outputs": [
    {
     "data": {
      "text/plain": [
       "(320, 50)"
      ]
     },
     "execution_count": 12,
     "metadata": {},
     "output_type": "execute_result"
    }
   ],
   "source": [
    "X_reduced50 = my_PCA(k=50)\n",
    "X_reduced50.shape"
   ]
  },
  {
   "cell_type": "markdown",
   "metadata": {},
   "source": [
    "### 1.3 Plot image with PCA"
   ]
  },
  {
   "cell_type": "code",
   "execution_count": 13,
   "metadata": {
    "scrolled": false
   },
   "outputs": [
    {
     "data": {
      "text/plain": [
       "<matplotlib.image.AxesImage at 0x7f4fd8da5fd0>"
      ]
     },
     "execution_count": 13,
     "metadata": {},
     "output_type": "execute_result"
    },
    {
     "data": {
      "image/png": "[encoded data removed]",
      "text/plain": [
       "<Figure size 432x288 with 1 Axes>"
      ]
     },
     "metadata": {
      "needs_background": "light"
     },
     "output_type": "display_data"
    }
   ],
   "source": [
    "# test with the face number 5 without PCA\n",
    "face5 = df_test_x[4:5]\n",
    "image5 = np.reshape(face5.values, (92,112))\n",
    "plt.imshow(image5.transpose())"
   ]
  },
  {
   "cell_type": "markdown",
   "metadata": {},
   "source": [
    "**function to perform a PCA, rebuild the image and display it**"
   ]
  },
  {
   "cell_type": "code",
   "execution_count": 14,
   "metadata": {},
   "outputs": [],
   "source": [
    "def PCAshow (k):\n",
    "    pca = PCA(k) \n",
    "    lower_dimension_data = pca.fit_transform(df_train_x) # PCA on data\n",
    "    approximation = pca.inverse_transform(lower_dimension_data)  # Reconstruct Images\n",
    "    face5pca = approximation[4:5] # Select Image 5\n",
    "    image5pca = np.reshape(face5pca, (92,112)) # Image to Matrix \n",
    "    plt.imshow(image5pca.transpose()) # Plot image"
   ]
  },
  {
   "cell_type": "markdown",
   "metadata": {},
   "source": [
    "**the same picture with a pca for k = 5**"
   ]
  },
  {
   "cell_type": "code",
   "execution_count": 15,
   "metadata": {
    "scrolled": true
   },
   "outputs": [
    {
     "data": {
      "image/png": "[encoded data removed]",
      "text/plain": [
       "<Figure size 432x288 with 1 Axes>"
      ]
     },
     "metadata": {
      "needs_background": "light"
     },
     "output_type": "display_data"
    }
   ],
   "source": [
    "PCAshow(5)"
   ]
  },
  {
   "cell_type": "markdown",
   "metadata": {},
   "source": [
    "**the same picture with a pca for k = 10**"
   ]
  },
  {
   "cell_type": "code",
   "execution_count": 16,
   "metadata": {
    "scrolled": true
   },
   "outputs": [
    {
     "data": {
      "image/png": "[encoded data removed]",
      "text/plain": [
       "<Figure size 432x288 with 1 Axes>"
      ]
     },
     "metadata": {
      "needs_background": "light"
     },
     "output_type": "display_data"
    }
   ],
   "source": [
    "PCAshow(10)"
   ]
  },
  {
   "cell_type": "markdown",
   "metadata": {},
   "source": [
    "**the same picture with a pca for k = 50**"
   ]
  },
  {
   "cell_type": "code",
   "execution_count": 17,
   "metadata": {},
   "outputs": [
    {
     "data": {
      "image/png": "[encoded data removed]",
      "text/plain": [
       "<Figure size 432x288 with 1 Axes>"
      ]
     },
     "metadata": {
      "needs_background": "light"
     },
     "output_type": "display_data"
    }
   ],
   "source": [
    "PCAshow(50)"
   ]
  },
  {
   "cell_type": "markdown",
   "metadata": {},
   "source": [
    "### 1.4"
   ]
  },
  {
   "cell_type": "code",
   "execution_count": null,
   "metadata": {},
   "outputs": [],
   "source": []
  },
  {
   "cell_type": "code",
   "execution_count": null,
   "metadata": {},
   "outputs": [],
   "source": []
  },
  {
   "cell_type": "markdown",
   "metadata": {},
   "source": [
    "### 1.5"
   ]
  },
  {
   "cell_type": "markdown",
   "metadata": {},
   "source": [
    "http://www.grappa.univ-lille3.fr/~ppreux/ensg/miashs/l3-ap/tps/kppv/ \n",
    "implémenter un k plus proche voisin"
   ]
  },
  {
   "cell_type": "markdown",
   "metadata": {},
   "source": [
    "### 1.6"
   ]
  },
  {
   "cell_type": "markdown",
   "metadata": {},
   "source": []
  },
  {
   "cell_type": "code",
   "execution_count": null,
   "metadata": {},
   "outputs": [],
   "source": []
  },
  {
   "cell_type": "markdown",
   "metadata": {},
   "source": [
    "### 1.7"
   ]
  },
  {
   "cell_type": "code",
   "execution_count": null,
   "metadata": {},
   "outputs": [],
   "source": []
  },
  {
   "cell_type": "code",
   "execution_count": null,
   "metadata": {},
   "outputs": [],
   "source": []
  },
  {
   "cell_type": "markdown",
   "metadata": {},
   "source": [
    "## 2. Exercise 2 (40%)"
   ]
  },
  {
   "cell_type": "code",
   "execution_count": null,
   "metadata": {},
   "outputs": [],
   "source": []
  },
  {
   "cell_type": "code",
   "execution_count": null,
   "metadata": {},
   "outputs": [],
   "source": []
  },
  {
   "cell_type": "code",
   "execution_count": null,
   "metadata": {},
   "outputs": [],
   "source": []
  },
  {
   "cell_type": "code",
   "execution_count": null,
   "metadata": {},
   "outputs": [],
   "source": []
  }
 ],
 "metadata": {
  "kernelspec": {
   "display_name": "Python 3",
   "language": "python",
   "name": "python3"
  },
  "language_info": {
   "codemirror_mode": {
    "name": "ipython",
    "version": 3
   },
   "file_extension": ".py",
   "mimetype": "text/x-python",
   "name": "python",
   "nbconvert_exporter": "python",
   "pygments_lexer": "ipython3",
   "version": "3.7.2"
  }
 },
 "nbformat": 4,
 "nbformat_minor": 2
}
